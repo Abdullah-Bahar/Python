

tablom=[[0,0,0],[0,0,0]]
def print_table():
  print("tablo değerlerini girin:")
  for i in range(2):
      for j in range(3):
        tablom[i][j]=int(input(f"[{i + 1}][{j + 1}]:"))
  for row in tablom:
      print(row)
  return tablom

def sum_rows(x):
    print("Tablo satırlarının toplamı:")
    for i, row in enumerate(x):
        row_sum = sum(row)
        print(f"{i + 1}: {row_sum}")

def sum_cols(x):
    print("Tablo sütünlarının toplamı:")
    for i in range(3):
        col_sum = sum(row[i] for row in x)
        print(f"{i + 1}: {col_sum}")
print(print_table())
print(sum_rows(tablom))
print(sum_cols(tablom))



def kelimeYildiz(tablom, kelime):
    for i in range(len(tablom)):
        for j in range(len(tablom[i])):
            if tablom[i][j] == kelime:
                tablom[i][j] = '*' * len(kelime)
    return tablom
KelimeTablom = [['python', 'cok', 'iyi'],['ama', 'python', 'iyi'],['python', 'nasıl', 'iyi']]
degistir = kelimeYildiz(KelimeTablom, 'python')
for row in degistir:
    print(row)




kelimeler = []
print("Lütfen 5 kelime girin:")
for i in range(5):
    kelime = input(f"{i + 1}. kelimeyi girin: ")
    kelimeler.append(kelime)
for kelime in reversed(kelimeler):
  if kelime[0].isupper():
    print("Büyük harfle olan kelimeler:"+kelime)
print("en kısa olan kelime:"+min(kelimeler,key=len))
