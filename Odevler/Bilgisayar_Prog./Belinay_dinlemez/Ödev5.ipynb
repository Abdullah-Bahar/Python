{
  "nbformat": 4,
  "nbformat_minor": 0,
  "metadata": {
    "colab": {
      "provenance": []
    },
    "kernelspec": {
      "name": "python3",
      "display_name": "Python 3"
    },
    "language_info": {
      "name": "python"
    }
  },
  "cells": [
    {
      "cell_type": "code",
      "source": [
        "def otelleri_bul(sehir, oteltxt):\n",
        "    dosya = open(oteltxt, 'r', encoding='utf-8')\n",
        "\n",
        "    for satir in dosya:\n",
        "        if sehir in satir:\n",
        "\n",
        "            print(satir.strip())\n",
        "\n",
        "    dosya.close()\n",
        "\n",
        "aranan_sehir = input(\"Lütfen aramak istediğiniz şehiri girin: \").capitalize()\n",
        "\n",
        "otelleri_bul(aranan_sehir, '/content/oteller.txt')"
      ],
      "metadata": {
        "colab": {
          "base_uri": "https://localhost:8080/"
        },
        "id": "SOEbTi5PXwNl",
        "outputId": "a1d4e782-6d8a-49f0-e630-d7a8c0e71cda"
      },
      "execution_count": 8,
      "outputs": [
        {
          "output_type": "stream",
          "name": "stdout",
          "text": [
            "Lütfen aramak istediğiniz şehiri girin: Girne\n",
            "Girne - Merit Otel\n"
          ]
        }
      ]
    },
    {
      "cell_type": "code",
      "source": [
        "dosya1 = 'dosya1.txt'\n",
        "dosya2 = 'dosya2.txt'\n",
        "birles = 'birlesik_dosya.txt'\n",
        "\n",
        "with open(dosya1, 'r', encoding='utf-8') as dosya1, \\\n",
        "     open(birles, 'a', encoding='utf-8') as hedef_dosya:\n",
        "    hedef_dosya.write(dosya1.read() + '\\n')\n",
        "\n",
        "\n",
        "with open(dosya2, 'r', encoding='utf-8') as dosya2, \\\n",
        "     open(birles, 'a', encoding='utf-8') as hedef_dosya:\n",
        "    hedef_dosya.write(dosya2.read() + '\\n')\n",
        "\n",
        "print(f\"Dosyalar başarıyla birleştirildi ve '{birles}' adlı dosyada saklandı.\")\n"
      ],
      "metadata": {
        "colab": {
          "base_uri": "https://localhost:8080/"
        },
        "id": "6CjLFQMsdrGj",
        "outputId": "e6084167-826c-49a4-aa14-3ecf1d6997bf"
      },
      "execution_count": 13,
      "outputs": [
        {
          "output_type": "stream",
          "name": "stdout",
          "text": [
            "Dosyalar başarıyla birleştirildi ve 'birlesik_dosya.txt' adlı dosyada saklandı.\n"
          ]
        }
      ]
    },
    {
      "cell_type": "code",
      "source": [
        "def nufus_yogunlugu_hesapla(nufus, alan, cikti):\n",
        "    with open(nufus, 'r') as nufus_dosya, open(alan, 'r') as alan_dosya, open(cikti, 'w') as cikti_dosya:\n",
        "        for nufus_satiri, alan_satiri in zip(nufus_dosya, alan_dosya):\n",
        "            nufus, alan = nufus_satiri.split()[1], alan_satiri.split()[1]\n",
        "\n",
        "            if float(alan) != 0:\n",
        "                nufus_yogunlugu = int(nufus) / float(alan)\n",
        "                cikti_dosya.write(f\"{nufus_yogunlugu:.2f}\\n\")\n",
        "\n",
        "nufus = '05_worldpop.txt'\n",
        "alan = '05_worldarea.txt'\n",
        "cikti = 'world_pop_density.txt'\n",
        "\n",
        "nufus_yogunlugu_hesapla(nufus, alan, cikti)\n",
        "print(\"Hesaplandı. world_pop_density.txt dosyasına sonuç yazıldı.\")"
      ],
      "metadata": {
        "colab": {
          "base_uri": "https://localhost:8080/"
        },
        "id": "sRuaD7JlhrrB",
        "outputId": "1a659c24-5fa3-44d1-903a-3e96ecdd1382"
      },
      "execution_count": 26,
      "outputs": [
        {
          "output_type": "stream",
          "name": "stdout",
          "text": [
            "Hesaplandı. world_pop_density.txt dosyasına sonuç yazıldı.\n"
          ]
        }
      ]
    }
  ]
}
