{
  "nbformat": 4,
  "nbformat_minor": 0,
  "metadata": {
    "colab": {
      "provenance": []
    },
    "kernelspec": {
      "name": "python3",
      "display_name": "Python 3"
    },
    "language_info": {
      "name": "python"
    }
  },
  "cells": [
    {
      "cell_type": "code",
      "source": [
        "class tablo:\n",
        "    def __init__(self, satir, sutun):\n",
        "        self.satir = satir\n",
        "        self.sutun = sutun\n",
        "        self.tablo = [[0] * sutun for p in range(satir)]\n",
        "\n",
        "    def tablo_deger_gir(self):\n",
        "        print(\"Değer tablosunu giriniz ( {}x{} ) -->\".format(self.satir, self.sutun))\n",
        "        for i in range(self.satir):\n",
        "            for j in range(self.sutun):\n",
        "                deger = float(input(\"Satır {} Sütun {} --> \".format(i + 1, j + 1)))\n",
        "                self.tablo[i][j] = deger\n",
        "\n",
        "    def print_table(self):\n",
        "        print(\"Tablo --> \")\n",
        "        for satir in self.tablo:\n",
        "            print(satir)\n",
        "\n",
        "    def sum_rows(self):\n",
        "        print(\"Her satırın toplamı --> \")\n",
        "        for i in range(self.satir):\n",
        "            row_sum = sum(self.tablo[i])\n",
        "            print(\"Satır {}: {}\".format(i + 1, row_sum))\n",
        "\n",
        "    def sum_cols(self):\n",
        "        print(\"Her sütunun toplamı --> \")\n",
        "        for j in range(self.sutun):\n",
        "            col_sum = sum(satir[j] for satir in self.tablo)\n",
        "            print(\"Sütun {}: {}\".format(j + 1, col_sum))\n",
        "\n",
        "satir = int(input(\"Satır sayısını giriniz --> \"))\n",
        "sutun = int(input(\"Sütun sayısını giriniz --> \"))\n",
        "\n",
        "tablom = tablo(satir, sutun)\n",
        "tablom.tablo_deger_gir()\n",
        "tablom.print_table()\n",
        "tablom.sum_rows()\n",
        "tablom.sum_cols()\n"
      ],
      "metadata": {
        "id": "mV-xsrAwTnDq",
        "colab": {
          "base_uri": "https://localhost:8080/"
        },
        "outputId": "13a53e86-2c40-4814-869f-c714f88e02c3"
      },
      "execution_count": 5,
      "outputs": [
        {
          "output_type": "stream",
          "name": "stdout",
          "text": [
            "Satır sayısını giriniz --> 2\n",
            "Sütun sayısını giriniz --> 3\n",
            "Değer tablosunu giriniz ( 2x3 ) -->\n",
            "Satır 1 Sütun 1 --> 4\n",
            "Satır 1 Sütun 2 --> 5\n",
            "Satır 1 Sütun 3 --> 3\n",
            "Satır 2 Sütun 1 --> 7\n",
            "Satır 2 Sütun 2 --> 1\n",
            "Satır 2 Sütun 3 --> 2\n",
            "Tablo --> \n",
            "[4.0, 5.0, 3.0]\n",
            "[7.0, 1.0, 2.0]\n",
            "Her satırın toplamı --> \n",
            "Satır 1: 12.0\n",
            "Satır 2: 10.0\n",
            "Her sütunun toplamı --> \n",
            "Sütun 1: 11.0\n",
            "Sütun 2: 6.0\n",
            "Sütun 3: 5.0\n"
          ]
        }
      ]
    },
    {
      "cell_type": "code",
      "source": [
        "def replace_word_occurrences(kelime_tablosu, cumle):\n",
        "    for harf in kelime_tablosu:\n",
        "        cumle = cumle.replace(harf, \" * \")\n",
        "    return cumle\n",
        "\n",
        "kelime_tablosu = input(\"Sözcük tablosunu giriniz --> \")\n",
        "kelime_tablosu = kelime_tablosu.split(\",\")\n",
        "\n",
        "input_cumle = input(\"Dize sözcüğünü girin --> \")\n",
        "\n",
        "sonuc_cumle = replace_word_occurrences(kelime_tablosu, input_cumle)\n",
        "\n",
        "print(\"Sonuç --> \", sonuc_cumle)\n"
      ],
      "metadata": {
        "colab": {
          "base_uri": "https://localhost:8080/"
        },
        "id": "6T8bI9Asx66Q",
        "outputId": "aee05687-722e-49c9-eec2-f554f728b147"
      },
      "execution_count": 12,
      "outputs": [
        {
          "output_type": "stream",
          "name": "stdout",
          "text": [
            "Sözcük tablosunu giriniz --> emir kod yazıyor.\n",
            "Dize sözcüğünü girin --> kod\n",
            "Sonuç -->  kod\n"
          ]
        }
      ]
    },
    {
      "cell_type": "code",
      "source": [
        "def sinirin_üzerindeki_ögeyi_kaldirma(lst, limit):\n",
        "    kaldirilacak_dizin = None\n",
        "\n",
        "    for i, deger in enumerate(lst):\n",
        "        if deger > limit:\n",
        "            kaldirilacak_dizin = i\n",
        "            break\n",
        "\n",
        "    if kaldirilacak_dizin is not None:\n",
        "        removed_element = lst.pop(kaldirilacak_dizin)\n",
        "        print(\"Limiti aşan ilk öğe -->\", removed_element)\n",
        "        print(\"Limiti aşan ilk öğenin dizini -->\", kaldirilacak_dizin)\n",
        "    else:\n",
        "        print(\"Limiti aşan öğe bulunamadı.\")\n",
        "\n",
        "kullanicinin_degeri = []\n",
        "while True:\n",
        "    deger = float(input(\"Değer girin (Çıkış için -1 girmelisiniz) --> \"))\n",
        "    if deger == -1:\n",
        "        break\n",
        "    kullanicinin_degeri.append(deger)\n",
        "\n",
        "limit_deger = float(input(\"Bir limit değeri giriniz --> \"))\n",
        "sinirin_üzerindeki_ögeyi_kaldirma(kullanicinin_degeri, limit_deger)\n",
        "print(\"Güncellenmiş Listeniz --> \", kullanicinin_degeri)\n"
      ],
      "metadata": {
        "id": "KYVMZKZjTnGA",
        "colab": {
          "base_uri": "https://localhost:8080/"
        },
        "outputId": "fb1f505b-1f86-417c-daa8-3a174c8fb9b2"
      },
      "execution_count": 13,
      "outputs": [
        {
          "output_type": "stream",
          "name": "stdout",
          "text": [
            "Değer girin (Çıkış için -1 girmelisiniz) --> 4\n",
            "Değer girin (Çıkış için -1 girmelisiniz) --> 3\n",
            "Değer girin (Çıkış için -1 girmelisiniz) --> 6\n",
            "Değer girin (Çıkış için -1 girmelisiniz) --> -1\n",
            "Bir limit değeri giriniz --> 6\n",
            "Limiti aşan öğe bulunamadı.\n",
            "Güncellenmiş Listeniz -->  [4.0, 3.0, 6.0]\n"
          ]
        }
      ]
    },
    {
      "cell_type": "code",
      "source": [
        "def EBOB(x, y):\n",
        "    while y:\n",
        "        x, y = y, x % y\n",
        "    return x\n",
        "\n",
        "def EKOK(x, y):\n",
        "    return x * y // EBOB(x, y)\n",
        "\n",
        "def EBOB_EKOK(n1, n2):\n",
        "    if n1 <= 0 or n2 <= 0:\n",
        "        return \"Hatalı giriş yaptınız. Pozitif tam sayı giriniz.\"\n",
        "\n",
        "    ebob = EBOB(n1, n2)\n",
        "    ekok = EKOK(n1, n2)\n",
        "\n",
        "    if ebob == 1:\n",
        "        return \"Ortak bölen yok\", \"Ortak bölen yok\"\n",
        "    else:\n",
        "      return ebob, ekok\n",
        "\n",
        "n1 = int(input(\"Birinci pozitif tam sayıyı giriniz --> \"))\n",
        "n2 = int(input(\"İkinci pozitif tam sayıyı giriniz --> \"))\n",
        "\n",
        "sonuc = EBOB_EKOK(n1, n2)\n",
        "print(\"EBOB ve EKOK --> \", sonuc)\n"
      ],
      "metadata": {
        "colab": {
          "base_uri": "https://localhost:8080/"
        },
        "id": "TpZe4Vhl5NbG",
        "outputId": "d8a1000c-3f55-4405-adf7-4066f9382856"
      },
      "execution_count": 18,
      "outputs": [
        {
          "output_type": "stream",
          "name": "stdout",
          "text": [
            "Birinci pozitif tam sayıyı giriniz --> 24\n",
            "İkinci pozitif tam sayıyı giriniz --> 47\n",
            "EBOB ve EKOK -->  ('Ortak bölen yok', 'Ortak bölen yok')\n"
          ]
        }
      ]
    },
    {
      "cell_type": "code",
      "source": [
        "def EBOB(x, y):\n",
        "    while y:\n",
        "        x, y = y, x % y\n",
        "    return x\n",
        "\n",
        "def EKOK(x, y):\n",
        "    return x * y // EBOB(x, y)\n",
        "\n",
        "def EBOB_EKOK(n1, n2):\n",
        "    if n1 <= 0 or n2 <= 0:\n",
        "        return \"Hatalı giriş yaptınız. Pozitif tam sayı giriniz.\"\n",
        "\n",
        "    ebob = EBOB(n1, n2)\n",
        "    ekok = EKOK(n1, n2)\n",
        "\n",
        "    if ebob == 1:\n",
        "        return \"Ortak bölen yok\", \"Ortak bölen yok\"\n",
        "    else:\n",
        "      return ebob, ekok\n",
        "\n",
        "n1 = int(input(\"Birinci pozitif tam sayıyı giriniz --> \"))\n",
        "n2 = int(input(\"İkinci pozitif tam sayıyı giriniz --> \"))\n",
        "\n",
        "sonuc = EBOB_EKOK(n1, n2)\n",
        "print(\"EBOB ve EKOK --> \", sonuc)\n"
      ],
      "metadata": {
        "colab": {
          "base_uri": "https://localhost:8080/"
        },
        "id": "-8FqQVx36t6Z",
        "outputId": "811ccca9-2c2c-4fc4-a8be-d7208c23f5ca"
      },
      "execution_count": 19,
      "outputs": [
        {
          "output_type": "stream",
          "name": "stdout",
          "text": [
            "Birinci pozitif tam sayıyı giriniz --> 48\n",
            "İkinci pozitif tam sayıyı giriniz --> 24\n",
            "EBOB ve EKOK -->  (24, 48)\n"
          ]
        }
      ]
    }
  ]
}
