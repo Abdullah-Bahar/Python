{
  "nbformat": 4,
  "nbformat_minor": 0,
  "metadata": {
    "colab": {
      "provenance": []
    },
    "kernelspec": {
      "name": "python3",
      "display_name": "Python 3"
    },
    "language_info": {
      "name": "python"
    }
  },
  "cells": [
    {
      "cell_type": "code",
      "execution_count": 5,
      "metadata": {
        "colab": {
          "base_uri": "https://localhost:8080/"
        },
        "id": "vNurTUBHLebn",
        "outputId": "e1cc5828-4346-4b9e-c365-bc57f65e5678"
      },
      "outputs": [
        {
          "output_type": "stream",
          "name": "stdout",
          "text": [
            "Hangi şehirdeki otelleri aramak istersin? İzmir\n",
            "İzmir şehrindeki otellere 'otelciktisi.txt' dosyasından ulaşabilirsiniz.\n"
          ]
        }
      ],
      "source": [
        "def otel_kopyala(sehir, kaynak_dosya, hedef_dosya):\n",
        "    try:\n",
        "        with open(kaynak_dosya, 'r') as kaynak, open(hedef_dosya, 'w') as hedef:\n",
        "            for satir in kaynak:\n",
        "                if sehir.lower() in satir.lower():\n",
        "                    hedef.write(satir)\n",
        "        print(f\"{sehir} şehrindeki otellere '{hedef_dosya}' dosyasından ulaşabilirsiniz.\")\n",
        "    except FileNotFoundError:\n",
        "        print(f\"{kaynak_dosya} dosyası bulunamadı.\")\n",
        "\n",
        "def goster():\n",
        "    kaynak_dosya = \"oteller.txt\"\n",
        "    hedef_dosya = \"otelciktisi.txt\"\n",
        "\n",
        "    sehir = input(\"Hangi şehirdeki otelleri aramak istersin? \")\n",
        "\n",
        "    otel_kopyala(sehir, kaynak_dosya, hedef_dosya)\n",
        "\n",
        "goster()"
      ]
    },
    {
      "cell_type": "code",
      "source": [
        "def birlestir_sirala_yaz(dosya1, dosya2, cikti):\n",
        "    with open(dosya1, 'r') as f1, open(dosya2, 'r') as f2:\n",
        "        cicekler = sorted(set(f1.read().splitlines() + f2.read().splitlines()))\n",
        "\n",
        "    with open(cikti, 'w') as cikti:\n",
        "        cikti.write('\\n'.join(cicekler))\n",
        "\n",
        "dosya1 = 'cicekdosya.txt'\n",
        "dosya2 = 'cicekdosya2.txt'\n",
        "birlesik_dosya = 'birlesim.txt'\n",
        "\n",
        "birlestir_sirala_yaz(dosya1, dosya2, birlesik_dosya)"
      ],
      "metadata": {
        "id": "u13QmaBjOuy4"
      },
      "execution_count": 6,
      "outputs": []
    },
    {
      "cell_type": "code",
      "source": [
        "def nufus_yogunlugu_hesapla(nufus, alan, cikti):\n",
        "    with open(nufus) as nufus, open(alan) as alan, open(cikti, 'w') as cikti:\n",
        "        cikti.write('\\n'.join(f\"{int(n)/float(a):.2f}\" for n, a in zip(nufus, alan) if float(a) != 0))\n",
        "\n",
        "nufus = '05_worldpop.txt'\n",
        "alan = '05_worldarea.txt'\n",
        "cikti = 'world_pop_density.txt'\n",
        "\n",
        "nufus_yogunlugu_hesapla(nufus, alan, cikti)"
      ],
      "metadata": {
        "id": "zfvIbWe7PknL"
      },
      "execution_count": 9,
      "outputs": []
    }
  ]
}
