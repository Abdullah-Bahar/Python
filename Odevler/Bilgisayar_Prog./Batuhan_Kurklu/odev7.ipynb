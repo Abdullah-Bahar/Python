{
  "nbformat": 4,
  "nbformat_minor": 0,
  "metadata": {
    "colab": {
      "provenance": []
    },
    "kernelspec": {
      "name": "python3",
      "display_name": "Python 3"
    },
    "language_info": {
      "name": "python"
    }
  },
  "cells": [
    {
      "cell_type": "code",
      "execution_count": 16,
      "metadata": {
        "colab": {
          "base_uri": "https://localhost:8080/"
        },
        "id": "vWObXq5Kb2iZ",
        "outputId": "b786c857-0d44-4efa-ae54-b296e60388b3"
      },
      "outputs": [
        {
          "output_type": "stream",
          "name": "stdout",
          "text": [
            "Tablo değerlerini girin (2x3):\n",
            "Değer (1, 1): 6\n",
            "Değer (1, 2): 12\n",
            "Değer (1, 3): 15\n",
            "Değer (2, 1): 6\n",
            "Değer (2, 2): 4\n",
            "Değer (2, 3): 68\n",
            "Tablo:\n",
            "[6, 12, 15]\n",
            "[6, 4, 68]\n",
            "Satırların toplamı:\n",
            "33\n",
            "78\n",
            "Sütunların toplamı:\n",
            "12\n",
            "16\n",
            "83\n"
          ]
        }
      ],
      "source": [
        "def tablo_gir():\n",
        "    tablo = []\n",
        "    print(\"Tablo değerlerini girin (2x3):\")\n",
        "    for _ in range(2):\n",
        "        satir = [int(input(f\"Değer ({_ + 1}, {i + 1}): \")) for i in range(3)]\n",
        "        tablo.append(satir)\n",
        "    return tablo\n",
        "\n",
        "def print_table(tablo):\n",
        "    print(\"Tablo:\")\n",
        "    for satir in tablo:\n",
        "        print(satir)\n",
        "\n",
        "def sum_rows(tablo):\n",
        "    print(\"Satırların toplamı:\")\n",
        "    for satir in tablo:\n",
        "        print(sum(satir))\n",
        "\n",
        "def sum_cols(tablo):\n",
        "    print(\"Sütunların toplamı:\")\n",
        "    for i in range(3):\n",
        "        print(sum(tablo[j][i] for j in range(2)))\n",
        "\n",
        "tablom = tablo_gir()\n",
        "print_table(tablom)\n",
        "sum_rows(tablom)\n",
        "sum_cols(tablom)"
      ]
    },
    {
      "cell_type": "code",
      "source": [
        "def yildizla_degistir(tablo, hedef_sozcuk):\n",
        "    yeni_tablo = []\n",
        "\n",
        "    for satir in tablo:\n",
        "        yeni_satir = satir.replace(hedef_sozcuk, '*' * len(hedef_sozcuk))\n",
        "        yeni_tablo.append(yeni_satir)\n",
        "\n",
        "    return yeni_tablo\n",
        "\n",
        "sozcuk_tablosu = [\n",
        "    \"Merhaba Batuhan\",\n",
        "    \"Batuhan balık tutuyor.\",\n",
        "    \"Galaksinin koruyucusu Batuhan.\"\n",
        "]\n",
        "\n",
        "hedef_sozcuk = \"Batuhan\"\n",
        "\n",
        "yeni_tablo = yildizla_degistir(sozcuk_tablosu, hedef_sozcuk)\n",
        "\n",
        "for satir in yeni_tablo:\n",
        "    print(satir)\n"
      ],
      "metadata": {
        "colab": {
          "base_uri": "https://localhost:8080/"
        },
        "id": "iU7U1pfEeedG",
        "outputId": "87fae98b-334d-4de0-8697-8d6f1fa8eb24"
      },
      "execution_count": 10,
      "outputs": [
        {
          "output_type": "stream",
          "name": "stdout",
          "text": [
            "Merhaba *******\n",
            "******* balık tutuyor.\n",
            "Galaksinin koruyucusu *******.\n"
          ]
        }
      ]
    },
    {
      "cell_type": "code",
      "source": [
        "def limiti_asan_elemani_bul_ve_kaldir(deger_listesi, limit):\n",
        "    for i, deger in enumerate(deger_listesi):\n",
        "        if deger > limit:\n",
        "            print(f\"Limiti aşan ilk öğe, indeks: {i}, değer: {deger}\")\n",
        "            deger_listesi.pop(i)\n",
        "            return\n",
        "\n",
        "    print(\"Limiti aşan bir öğe bulunamadı.\")\n",
        "\n",
        "deger_listesi = []\n",
        "while True:\n",
        "    deger = input(\"Değer girin (-1'i girerek sonlandırın): \")\n",
        "    if deger == '-1':\n",
        "        break\n",
        "    deger_listesi.append(int(deger))\n",
        "\n",
        "limit = int(input(\"Limiti girin: \"))\n",
        "\n",
        "limiti_asan_elemani_bul_ve_kaldir(deger_listesi, limit)\n",
        "\n",
        "print(\"Yeni Liste:\", deger_listesi)\n"
      ],
      "metadata": {
        "colab": {
          "base_uri": "https://localhost:8080/"
        },
        "id": "HqzuhS8-e2X8",
        "outputId": "8ff8f9a7-5013-426e-b94a-ea39e888b61d"
      },
      "execution_count": 12,
      "outputs": [
        {
          "output_type": "stream",
          "name": "stdout",
          "text": [
            "Değer girin (-1'i girerek sonlandırın): 8\n",
            "Değer girin (-1'i girerek sonlandırın): 9\n",
            "Değer girin (-1'i girerek sonlandırın): 10\n",
            "Değer girin (-1'i girerek sonlandırın): 11\n",
            "Değer girin (-1'i girerek sonlandırın): 12\n",
            "Değer girin (-1'i girerek sonlandırın): -1\n",
            "Limiti girin: 10\n",
            "Limiti aşan ilk öğe, indeks: 3, değer: 11\n",
            "Yeni Liste: [8, 9, 10, 12]\n"
          ]
        }
      ]
    },
    {
      "cell_type": "code",
      "source": [
        "kelime_listesi = []\n",
        "for i in range(5):\n",
        "    kelime = input(f\"{i+1}. kelimeyi girin: \")\n",
        "    kelime_listesi.append(kelime)\n",
        "\n",
        "print(\"\\nBüyük harfle başlayan kelimeler:\")\n",
        "for kelime in reversed(kelime_listesi):\n",
        "    if kelime[0].isupper():\n",
        "        print(kelime)\n",
        "\n",
        "en_kisa_kelime = min(kelime_listesi, key=len)\n",
        "print(f\"\\nEn kısa kelime: {en_kisa_kelime}\")\n"
      ],
      "metadata": {
        "colab": {
          "base_uri": "https://localhost:8080/"
        },
        "id": "qfSojyJDfYVW",
        "outputId": "d0899ba9-7449-4951-c9a4-3c34a7fb4374"
      },
      "execution_count": 13,
      "outputs": [
        {
          "output_type": "stream",
          "name": "stdout",
          "text": [
            "1. kelimeyi girin: Batuhan\n",
            "2. kelimeyi girin: selam\n",
            "3. kelimeyi girin: naber\n",
            "4. kelimeyi girin: Balık\n",
            "5. kelimeyi girin: Ak\n",
            "\n",
            "Büyük harfle başlayan kelimeler:\n",
            "Ak\n",
            "Balık\n",
            "Batuhan\n",
            "\n",
            "En kısa kelime: Ak\n"
          ]
        }
      ]
    },
    {
      "cell_type": "code",
      "source": [
        "def tuple_kesisimi(t1, t2):\n",
        "    return tuple(set(t1) & set(t2))\n",
        "\n",
        "t1 = (1, 2, 3, 4, 5)\n",
        "t2 = (3, 4, 5, 6, 7)\n",
        "\n",
        "kesisim = tuple_kesisimi(t1, t2)\n",
        "print(\"Kesişim:\", kesisim)\n"
      ],
      "metadata": {
        "colab": {
          "base_uri": "https://localhost:8080/"
        },
        "id": "NaR76Qz3frGE",
        "outputId": "e81c477e-02fd-42e2-cdbe-dcd3d5e538a5"
      },
      "execution_count": 14,
      "outputs": [
        {
          "output_type": "stream",
          "name": "stdout",
          "text": [
            "Kesişim: (3, 4, 5)\n"
          ]
        }
      ]
    },
    {
      "cell_type": "code",
      "source": [
        "def en_kucuk_ortak_bolen_ve_en_buyuk_ortak_bolen(n1, n2):\n",
        "    ekob = 1\n",
        "    i = 2\n",
        "    while i <= n1 and i <= n2:\n",
        "        if n1 % i == 0 and n2 % i == 0:\n",
        "            ekob *= i\n",
        "            n1 //= i\n",
        "            n2 //= i\n",
        "        else:\n",
        "            i += 1\n",
        "\n",
        "    ebob = 1\n",
        "    for i in range(2, min(n1, n2) + 1):\n",
        "        if n1 % i == 0 and n2 % i == 0:\n",
        "            ebob = i\n",
        "\n",
        "    if ebob == 1:\n",
        "        return \"Yok\", \"Yok\"\n",
        "    else:\n",
        "        return ekob, ebob\n",
        "\n",
        "n1 = int(input(\"n1'i girin: \"))\n",
        "n2 = int(input(\"n2'yi girin: \"))\n",
        "\n",
        "sonuc = en_kucuk_ortak_bolen_ve_en_buyuk_ortak_bolen(n1, n2)\n",
        "print(\"1'den büyük en küçük ortak bölen:\", sonuc[0])\n",
        "print(\"En büyük ortak bölen:\", sonuc[1])\n"
      ],
      "metadata": {
        "colab": {
          "base_uri": "https://localhost:8080/"
        },
        "id": "S7R5lObUf8dK",
        "outputId": "54a992f7-26e1-4c91-b82e-6150cbfb1c70"
      },
      "execution_count": 15,
      "outputs": [
        {
          "output_type": "stream",
          "name": "stdout",
          "text": [
            "n1'i girin: 6\n",
            "n2'yi girin: 108\n",
            "1'den büyük en küçük ortak bölen: Yok\n",
            "En büyük ortak bölen: Yok\n"
          ]
        }
      ]
    }
  ]
}
