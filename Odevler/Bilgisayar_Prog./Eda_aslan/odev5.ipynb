{
  "nbformat": 4,
  "nbformat_minor": 0,
  "metadata": {
    "colab": {
      "provenance": []
    },
    "kernelspec": {
      "name": "python3",
      "display_name": "Python 3"
    },
    "language_info": {
      "name": "python"
    }
  },
  "cells": [
    {
      "cell_type": "code",
      "execution_count": 11,
      "metadata": {
        "colab": {
          "base_uri": "https://localhost:8080/"
        },
        "id": "_PBUFXNdnmjQ",
        "outputId": "b618a079-f493-4599-84d3-a43009f626fb"
      },
      "outputs": [
        {
          "output_type": "stream",
          "name": "stdout",
          "text": [
            "Şehir giriniz: Ankara\n",
            "Ankara şehrindeki otellere 'otel.txt' den ulaşabilirsiniz.\n"
          ]
        }
      ],
      "source": [
        "def otel_kopyala(sehir, kaynak_dosya, hedef_dosya):\n",
        "    try:\n",
        "        with open(kaynak_dosya, 'r') as kaynak, open(hedef_dosya, 'w') as hedef:\n",
        "            for satir in kaynak:\n",
        "                if sehir.lower() in satir.lower():\n",
        "                    hedef.write(satir)\n",
        "        print(f\"{sehir} şehrindeki otellere '{hedef_dosya}' den ulaşabilirsiniz.\")\n",
        "    except FileNotFoundError:\n",
        "        print(f\"{kaynak_dosya}  bulunamadı.\")\n",
        "\n",
        "def goster():\n",
        "    kaynak_dosya = \"otelb.txt\"\n",
        "    hedef_dosya = \"otel.txt\"\n",
        "\n",
        "    sehir = input(\"Şehir giriniz: \")\n",
        "    otel_kopyala(sehir, kaynak_dosya, hedef_dosya)\n",
        "goster()\n"
      ]
    },
    {
      "cell_type": "code",
      "source": [
        "def birlestir_sirala_yaz(dosya, dosyaa, cikti):\n",
        "    with open(dosya, 'r') as f1, open(dosyaa, 'r') as f2:\n",
        "        cicek = sorted(set(f1.read().splitlines() + f2.read().splitlines()))\n",
        "\n",
        "    with open(cikti, 'w') as cikti:\n",
        "        cikti.write('\\n'.join(cicek))\n",
        "\n",
        "dosya = 'cicek.txt'\n",
        "dosyaa = 'cicek1.txt'\n",
        "birlesik_dosya = 'cicekler.txt'\n",
        "\n",
        "birlestir_sirala_yaz(dosya, dosyaa, birlesik_dosya)"
      ],
      "metadata": {
        "id": "eGqPUPgBntLE"
      },
      "execution_count": 12,
      "outputs": []
    },
    {
      "cell_type": "code",
      "source": [
        "def nufus_yogunlugu_hesapla(nufus, alan, cikti):\n",
        "    with open(nufus) as nufus, open(alan) as alan, open(cikti, 'w') as cikti:\n",
        "        cikti.write('\\n'.join(f\"{int(n)/float(a):.2f}\" for n, a in zip(nufus, alan) if float(a) != 0))\n",
        "\n",
        "nufus = '05_worldpop.txt'\n",
        "alan = '05_worldarea.txt'\n",
        "cikti = 'world_pop_density.txt'\n",
        "\n",
        "nufus_yogunlugu_hesapla(nufus, alan, cikti)\n"
      ],
      "metadata": {
        "id": "kTTX0HYQnwsb"
      },
      "execution_count": 26,
      "outputs": []
    }
  ]
}
