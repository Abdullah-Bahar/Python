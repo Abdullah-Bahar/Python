{
  "nbformat": 4,
  "nbformat_minor": 0,
  "metadata": {
    "colab": {
      "provenance": []
    },
    "kernelspec": {
      "name": "python3",
      "display_name": "Python 3"
    },
    "language_info": {
      "name": "python"
    }
  },
  "cells": [
    {
      "cell_type": "code",
      "execution_count": 4,
      "metadata": {
        "colab": {
          "base_uri": "https://localhost:8080/"
        },
        "id": "uvWR--RMj5QG",
        "outputId": "97cc4fff-a583-4436-9c8d-d545ec21ef6a"
      },
      "outputs": [
        {
          "output_type": "stream",
          "name": "stdout",
          "text": [
            "Kesişim: ('4', '9')\n"
          ]
        }
      ],
      "source": [
        "def tuple_kesisimi(tuple1, tuple2):\n",
        "    return tuple(set(tuple1) & set(tuple2))\n",
        "tuple1 = ('4','8' ,'1' ,'9' ,'3' )\n",
        "tuple2 = ('9','4' , '5', '6', '7')\n",
        "kesisim = tuple_kesisimi(tuple1, tuple2)\n",
        "print(\"Kesişim:\", kesisim)\n"
      ]
    },
    {
      "cell_type": "code",
      "source": [
        "def ebek(n1, n2):\n",
        "    carpim = n1 * n2\n",
        "    while n2:\n",
        "        n1, n2 = n2, n1 % n2\n",
        "    if n1 == 1:\n",
        "        return \"Yok\", \"Yok\"\n",
        "    return int(carpim / n1), n1\n",
        "n1 = 18\n",
        "n2 = 42\n",
        "sonuc = ebek(n1, n2)\n",
        "print(f\"1'den Büyük EKOK: {sonuc[0]}\")\n",
        "print(f\"EBOB: {sonuc[1]}\")"
      ],
      "metadata": {
        "colab": {
          "base_uri": "https://localhost:8080/"
        },
        "id": "g8ustoWykPwX",
        "outputId": "cda40c63-068c-458f-a239-8dfc365aba2d"
      },
      "execution_count": 5,
      "outputs": [
        {
          "output_type": "stream",
          "name": "stdout",
          "text": [
            "1'den Büyük EKOK: 126\n",
            "EBOB: 6\n"
          ]
        }
      ]
    },
    {
      "cell_type": "code",
      "source": [
        "girilen = [input(\"Bir kelime girin: \") for _ in range(5)]\n",
        "\n",
        "buyukharf = [kelime for kelime in reversed(girilen) if kelime[0].isupper()]\n",
        "\n",
        "kisak = min(girilen, key=len)\n",
        "\n",
        "print(\"Büyük harfle başlayan kelimeler:\")\n",
        "for kelime in reversed(buyukharf):\n",
        "    print(kelime)\n",
        "\n",
        "print(f\"En kısa kelime: {kisak}\")"
      ],
      "metadata": {
        "colab": {
          "base_uri": "https://localhost:8080/"
        },
        "id": "dq8wk7_6kYI9",
        "outputId": "26446cbd-4183-473d-f7dc-cabd49f5304e"
      },
      "execution_count": 3,
      "outputs": [
        {
          "output_type": "stream",
          "name": "stdout",
          "text": [
            "Bir kelime girin: Eda\n",
            "Bir kelime girin: Seda\n",
            "Bir kelime girin: MErhaba\n",
            "Bir kelime girin: edaa\n",
            "Bir kelime girin: seda\n",
            "Büyük harfle başlayan kelimeler:\n",
            "Eda\n",
            "Seda\n",
            "MErhaba\n",
            "En kısa kelime: Eda\n"
          ]
        }
      ]
    },
    {
      "cell_type": "code",
      "source": [
        "liste = []\n",
        "while True:\n",
        "    sayi = int(input(\"Değer girin (-1 ile sonlanır): \"))\n",
        "    if sayi == -1:\n",
        "        break\n",
        "    liste.append(sayi)\n",
        "limit = int(input(\"Limit girin: \"))\n",
        "for index, sayi in enumerate(liste):\n",
        "    if sayi > limit:\n",
        "        print(f\"Limiti aşan ilk öğe {sayi}, dizin: {index}\")\n",
        "        liste.pop(index)\n",
        "        break\n",
        "\n",
        "print(\"Sonuç :\", liste)"
      ],
      "metadata": {
        "colab": {
          "base_uri": "https://localhost:8080/"
        },
        "id": "sZOTwrebkaZ-",
        "outputId": "31795083-5173-404e-a293-c8d1f4749d61"
      },
      "execution_count": 8,
      "outputs": [
        {
          "output_type": "stream",
          "name": "stdout",
          "text": [
            "Değer girin (-1 ile sonlanır): 5\n",
            "Değer girin (-1 ile sonlanır): 4\n",
            "Değer girin (-1 ile sonlanır): 8\n",
            "Değer girin (-1 ile sonlanır): 2\n",
            "Değer girin (-1 ile sonlanır): 3\n",
            "Değer girin (-1 ile sonlanır): -1\n",
            "Limit girin: 4\n",
            "Limiti aşan ilk öğe 5, dizin: 0\n",
            "Sonuç : [4, 8, 2, 3]\n"
          ]
        }
      ]
    },
    {
      "cell_type": "code",
      "source": [
        "def degisfonk(cumle, degisen):\n",
        "    for row in cumle:\n",
        "        for indeks, kelime in enumerate(row):\n",
        "            if kelime == degisen:\n",
        "                row[indeks] = '***'\n",
        "tablo = [\n",
        "    ['Eda', 'Aslan', 'Kız'],\n",
        "    ['Bilgisayar', 'Programcılığı', '2.Sınıf'],\n",
        "    ['Siber', 'Güvenlik', '1.Sınıf']]\n",
        "\n",
        "degis = input(\"Değiştirmek istediğiniz sözcük: \")\n",
        "degisfonk(tablo, degis)\n",
        "\n",
        "for row in tablo:\n",
        "    print(' '.join(row))"
      ],
      "metadata": {
        "colab": {
          "base_uri": "https://localhost:8080/"
        },
        "id": "n-6UwN_1kb0V",
        "outputId": "2ed8f1ee-2332-4999-e45f-fbcb65fa781f"
      },
      "execution_count": 9,
      "outputs": [
        {
          "output_type": "stream",
          "name": "stdout",
          "text": [
            "Değiştirmek istediğiniz sözcük: Eda\n",
            "*** Aslan Kız\n",
            "Bilgisayar Programcılığı 2.Sınıf\n",
            "Siber Güvenlik 1.Sınıf\n"
          ]
        }
      ]
    },
    {
      "cell_type": "code",
      "source": [
        "def tabloo():\n",
        "    tablo = []\n",
        "    print(\"Tablo değerlerini girin (2x3):\")\n",
        "    for _ in range(2):\n",
        "        satir = [int(input(f\"Değer ({_ + 1}, {i + 1}): \")) for i in range(3)]\n",
        "        tablo.append(satir)\n",
        "    return tablo\n",
        "\n",
        "def print_table(tablo):\n",
        "    print(\"Tablo:\")\n",
        "    for satir in tablo:\n",
        "        print(satir)\n",
        "\n",
        "def sum_rows(tablo):\n",
        "    print(\"Satırların toplamı:\")\n",
        "    for satir in tablo:\n",
        "        print(sum(satir))\n",
        "\n",
        "def sum_cols(tablo):\n",
        "    print(\"Sütunların toplamı:\")\n",
        "    for i in range(3):\n",
        "        print(sum(tablo[j][i] for j in range(2)))\n",
        "\n",
        "tablool = tabloo()\n",
        "print_table(tablool)\n",
        "sum_rows(tablool)\n",
        "sum_cols(tablool)"
      ],
      "metadata": {
        "colab": {
          "base_uri": "https://localhost:8080/"
        },
        "id": "I8UZ5lDFkdPd",
        "outputId": "a12e5097-7582-49be-d181-4c14454ba6b5"
      },
      "execution_count": 11,
      "outputs": [
        {
          "output_type": "stream",
          "name": "stdout",
          "text": [
            "Tablo değerlerini girin (2x3):\n",
            "Değer (1, 1): 4\n",
            "Değer (1, 2): 5\n",
            "Değer (1, 3): 6\n",
            "Değer (2, 1): 7\n",
            "Değer (2, 2): 8\n",
            "Değer (2, 3): 9\n",
            "Tablo:\n",
            "[4, 5, 6]\n",
            "[7, 8, 9]\n",
            "Satırların toplamı:\n",
            "15\n",
            "24\n",
            "Sütunların toplamı:\n",
            "11\n",
            "13\n",
            "15\n"
          ]
        }
      ]
    }
  ]
}
