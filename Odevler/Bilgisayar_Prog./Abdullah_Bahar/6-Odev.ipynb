{
 "cells": [
  {
   "cell_type": "code",
   "execution_count": 37,
   "metadata": {},
   "outputs": [
    {
     "name": "stdout",
     "output_type": "stream",
     "text": [
      "1 2 3 \n",
      "4 5 6 \n",
      "\n",
      "1 . satırın toplami =  6\n",
      "2 . satırın toplami =  15\n",
      "\n",
      "1 . surtunun toplami =  5\n",
      "2 . surtunun toplami =  7\n",
      "3 . surtunun toplami =  9\n",
      "\n",
      "Bu is boyle yapilir\n"
     ]
    }
   ],
   "source": [
    "def print_table(t):\n",
    "\tfor i in t:\n",
    "\t\tfor j in i:\n",
    "\t\t\tprint(j, end=' ')\n",
    "\t\tprint()\n",
    "\tprint()\n",
    "\n",
    "\n",
    "def sum_rows(t):\n",
    "\tfor i in range(len(t)):\n",
    "\t\ttoplam = 0\n",
    "\t\tfor j in t[i]:\n",
    "\t\t\ttoplam += j\n",
    "\t\tprint(i+1, '. satırın toplami = ', toplam) \n",
    "\tprint()\n",
    "\n",
    "\n",
    "def sum_cols(t):\n",
    "\t\n",
    "\tfor j in range(len(t[0])):\n",
    "\t\ttoplam = 0\n",
    "\t\tfor i in range(len(t)):\n",
    "\t\t\ttoplam += t[i][j]\n",
    "\t\tprint(j+1, \". surtunun toplami = \", toplam)\n",
    "\tprint()\n",
    "\n",
    "\n",
    "t = []\n",
    "# kullanicidan veri aldigimiz kisim (2 satir, 3 sutun) \n",
    "for i in range(2):\n",
    "\ts = []\n",
    "\tfor j in range(3):\n",
    "\t\ts.append(int(input(\"Lutfen bir sayi giriniz : \")))\n",
    "\tt.append(s)\n",
    "\n",
    "\n",
    "print_table(t)\n",
    "sum_rows(t)\n",
    "sum_cols(t)\n",
    "print(\"Bu is boyle yapilir\")"
   ]
  },
  {
   "cell_type": "code",
   "execution_count": 51,
   "metadata": {},
   "outputs": [
    {
     "name": "stdout",
     "output_type": "stream",
     "text": [
      "Degistirilmeden once : \n",
      "['bu', 'yagmur', 'kanimi', 'bogan', 'bir', 'iplik']\n",
      "['tenimde', 'yatan', 'acisiz', 'bir', 'bicak']\n",
      "['bu', 'yagmur', 'yerde', 'tas', 've', 'bende', 'kemik']\n",
      "['dayandikca', 'cisil', 'cisil', 'yagacak']\n",
      "\n",
      "Degistirildikten sonra : \n",
      "['*', 'yagmur', 'kanimi', 'bogan', 'bir', 'iplik']\n",
      "['tenimde', 'yatan', 'acisiz', 'bir', 'bicak']\n",
      "['*', 'yagmur', 'yerde', 'tas', 've', 'bende', 'kemik']\n",
      "['dayandikca', 'cisil', 'cisil', 'yagacak']\n",
      "\n"
     ]
    }
   ],
   "source": [
    "def f2(table, kelime):\n",
    "\tfor i in range(len(table)):\n",
    "\t\tfor j in range(len(table[i])):\n",
    "\t\t\tif(table[i][j] == kelime):\n",
    "\t\t\t\ttable[i][j] = \"*\"\n",
    "\n",
    "def print_table(t):\n",
    "\tfor i in t:\n",
    "\t\tprint(i)\n",
    "\tprint()\n",
    "\n",
    "\n",
    "sozcuktable = []\n",
    "yagmur = [\n",
    "\t\"bu yagmur kanimi bogan bir iplik\",\n",
    "\t\"tenimde yatan acisiz bir bicak\",\n",
    "\t\"bu yagmur yerde tas ve bende kemik\",\n",
    "\t\"dayandikca cisil cisil yagacak\"\n",
    "]\n",
    "\n",
    "for i in yagmur:\n",
    "\tsozcuktable.append(i.split())\n",
    "\n",
    "print(\"Degistirilmeden once : \")\n",
    "print_table(sozcuktable)\n",
    "f2(sozcuktable, \"bu\")\n",
    "print(\"Degistirildikten sonra : \")\n",
    "print_table(sozcuktable)\n"
   ]
  },
  {
   "cell_type": "code",
   "execution_count": 50,
   "metadata": {},
   "outputs": [
    {
     "name": "stdout",
     "output_type": "stream",
     "text": [
      "[1, 2, 3, 5, 7, 9, 11, 15, 19, 99]\n",
      "10  limitini asan  6 . indexinde bulunan  11  degeri silinmistir\n",
      "[1, 2, 3, 5, 7, 9, 15, 19, 99]\n"
     ]
    }
   ],
   "source": [
    "l = []\n",
    "i = 0\n",
    "\n",
    "while(i >= 0):\n",
    "\ti = int(input(\"Bir sayi giriniz: (Cikmak icin 0'dan kucuk bir deger girin)\"))\n",
    "\tl.append(i)\n",
    "l.pop() # en sona -1'i de eklicegi icin -1'i siliyoruz\n",
    "print(l)\n",
    "\n",
    "\n",
    "i = -1\n",
    "# listenin icinde sifirdan kucuk eleman olamayacagi icin \n",
    "# limit de sifirnda kucuk olamsi anlamsiz oalcaginda dolayi kontrol ediliyor\n",
    "while(i < 0):\n",
    "\ti = int(input(\"Lutfen bir limit giriniz: \"))\n",
    "\n",
    "\n",
    "for sayi in range(len(l)):\n",
    "\tif(l[sayi] > i):\n",
    "\t\tprint(i, \" limitini asan \", l.index(l[sayi]), \". indexinde bulunan \", l[sayi], \" degeri silinmistir\")\n",
    "\t\tl.pop(sayi)\n",
    "\t\tbreak\n",
    "\n",
    "print(l)\t\t\t\n",
    "\n"
   ]
  },
  {
   "cell_type": "code",
   "execution_count": 74,
   "metadata": {},
   "outputs": [
    {
     "name": "stdout",
     "output_type": "stream",
     "text": [
      "orginal liste : \n",
      "Bu\n",
      "Yagmur\n",
      "kanimi\n",
      "Bogan\n",
      "bir\n",
      "\n",
      "Ilk harfi buyukle baslamis ve listenin tersten yazilmis hali :\n",
      "Bogan\n",
      "Yagmur\n",
      "Bu\n",
      "\n",
      "En kisa kelime veya kelimeler : \n",
      "Bu\n",
      "\n"
     ]
    }
   ],
   "source": [
    "\"\"\"\n",
    "\tord() -> char'ı ASCII'ye ceviririr\n",
    "\tchr() -> ASCII'yi char'a ceviririr\n",
    "\"\"\"\n",
    "\n",
    "s = []\n",
    "for i in range(5):\n",
    "\ts.append(str(input(\"Pliss kelime gir :\")))\n",
    "\n",
    "print(\"orginal liste : \")\n",
    "for i in s:\n",
    "\tprint(i)\n",
    "print()\n",
    "\n",
    "print(\"Ilk harfi buyukle baslamis ve listenin tersten yazilmis hali :\")\n",
    "for i in range(len(s)-1, -1, -1):\n",
    "\tif( ord(s[i][0]) >= ord(\"A\")  and ord(s[i][0]) <= ord(\"Z\")):\n",
    "\t\tprint(s[i])\n",
    "print()\n",
    "\n",
    "uzunluk = []\n",
    "for i in s:\n",
    "\tuzunluk.append(len(i))\n",
    "enKisa = min(uzunluk)\n",
    "\n",
    "\n",
    "print(\"En kisa kelime veya kelimeler : \")\n",
    "for i in s:\n",
    "\tif (len(i) == enKisa):\n",
    "\t\tprint(i)\n",
    "print()"
   ]
  },
  {
   "cell_type": "code",
   "execution_count": 76,
   "metadata": {},
   "outputs": [
    {
     "name": "stdout",
     "output_type": "stream",
     "text": [
      "(2, 3, 5, 6)\n"
     ]
    }
   ],
   "source": [
    "t1 = (1, 2, 3, 4, 5, 6)\n",
    "t2 = (99, 88, 6, 5, 3, 2, 10)\n",
    "\n",
    "print(tuple(set(t1) & set(t2)))"
   ]
  },
  {
   "cell_type": "code",
   "execution_count": 80,
   "metadata": {},
   "outputs": [
    {
     "name": "stdout",
     "output_type": "stream",
     "text": [
      "(5, 5)\n"
     ]
    }
   ],
   "source": [
    "def bolen(n1, n2):\n",
    "\ti = 1 \t# sıfır olursa hata alırız. Cunku sıfıra bolunemez.\n",
    "\twhile(i <= n1 and i <= n2):\n",
    "\t\tif ((n1 % i == 0 and n2 % i == 0) and i != 1):\n",
    "\t\t\treturn (i, i)\n",
    "\t\ti += 1\n",
    "\treturn (None, None)\n",
    "\n",
    "\n",
    "n1 = int(input(\"Lutfen bir sayi gir :\"))\n",
    "n2 = int(input(\"Lutfen bir sayi gir :\"))\n",
    "sonuc = bolen(n1, n2)\n",
    "print(sonuc)"
   ]
  }
 ],
 "metadata": {
  "kernelspec": {
   "display_name": "Python 3",
   "language": "python",
   "name": "python3"
  },
  "language_info": {
   "codemirror_mode": {
    "name": "ipython",
    "version": 3
   },
   "file_extension": ".py",
   "mimetype": "text/x-python",
   "name": "python",
   "nbconvert_exporter": "python",
   "pygments_lexer": "ipython3",
   "version": "3.12.0"
  }
 },
 "nbformat": 4,
 "nbformat_minor": 2
}
