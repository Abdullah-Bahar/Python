{
  "nbformat": 4,
  "nbformat_minor": 0,
  "metadata": {
    "colab": {
      "provenance": []
    },
    "kernelspec": {
      "name": "python3",
      "display_name": "Python 3"
    },
    "language_info": {
      "name": "python"
    }
  },
  "cells": [
    {
      "cell_type": "code",
      "source": [
        "def degisecekfonksiyon(cumle, degisen):\n",
        "    for row in cumle:\n",
        "        for indeks, kelime in enumerate(row):\n",
        "            if kelime == degisen:\n",
        "                row[indeks] = '*'\n",
        "\n",
        "sozcuktablosu = [\n",
        "    ['Python', 'Programlama', 'Dersi'],\n",
        "    ['6.Ödev', '2.', 'Madde'],\n",
        "    ['Zeynep', 'Buse', 'Rençber']\n",
        "]\n",
        "\n",
        "degiseceksozcuk = input(\"Değiştirmek istediğiniz sözcüğü girin: \")\n",
        "degisecekfonksiyon(sozcuktablosu, degiseceksozcuk)\n",
        "\n",
        "for row in sozcuktablosu:\n",
        "    print(' '.join(row))"
      ],
      "metadata": {
        "colab": {
          "base_uri": "https://localhost:8080/"
        },
        "id": "ZPLSrbA35uUf",
        "outputId": "e91ffe88-152d-479b-fbe8-3a9c697505e3"
      },
      "execution_count": null,
      "outputs": [
        {
          "output_type": "stream",
          "name": "stdout",
          "text": [
            "Değiştirmek istediğiniz sözcüğü girin: Zeynep\n",
            "Python Programlama Dersi\n",
            "6.Ödev 2. Madde\n",
            "* Buse Rençber\n"
          ]
        }
      ]
    },
    {
      "cell_type": "code",
      "source": [
        "liste = []\n",
        "while True:\n",
        "    deger = int(input(\"Bir değer girin (-1 ile sonlandırın): \"))\n",
        "    if deger == -1:\n",
        "        break\n",
        "    liste.append(deger)\n",
        "limit = int(input(\"Bir limit girin: \"))\n",
        "\n",
        "for index, deger in enumerate(liste):\n",
        "    if deger > limit:\n",
        "        print(f\"Limiti aşan ilk öğe {deger}, dizin: {index}\")\n",
        "        liste.pop(index)\n",
        "        break\n",
        "\n",
        "print(\"Sonuç :\", liste)\n"
      ],
      "metadata": {
        "id": "KHUyYeiFZg0p",
        "colab": {
          "base_uri": "https://localhost:8080/"
        },
        "outputId": "de61335c-46d2-4e3b-8d02-1bdfd86eaa3f"
      },
      "execution_count": 13,
      "outputs": [
        {
          "output_type": "stream",
          "name": "stdout",
          "text": [
            "Bir değer girin (-1 ile sonlandırın): 11\n",
            "Bir değer girin (-1 ile sonlandırın): 19\n",
            "Bir değer girin (-1 ile sonlandırın): 20\n",
            "Bir değer girin (-1 ile sonlandırın): 22\n",
            "Bir değer girin (-1 ile sonlandırın): -1\n",
            "Bir limit girin: 21\n",
            "Limiti aşan ilk öğe 22, dizin: 3\n",
            "Sonuç : [11, 19, 20]\n"
          ]
        }
      ]
    },
    {
      "cell_type": "code",
      "source": [
        "kelimeler = [input(\"Bir kelime girin: \") for _ in range(5)]\n",
        "\n",
        "buyuk_harfli_kelimeler = [kelime for kelime in reversed(kelimeler) if kelime[0].isupper()]\n",
        "\n",
        "en_kisa_kelime = min(kelimeler, key=len)\n",
        "\n",
        "print(\"Büyük harfle başlayan kelimeler:\")\n",
        "for kelime in reversed(buyuk_harfli_kelimeler):\n",
        "    print(kelime)\n",
        "\n",
        "print(f\"En kısa kelime: {en_kisa_kelime}\")"
      ],
      "metadata": {
        "colab": {
          "base_uri": "https://localhost:8080/"
        },
        "id": "YIzrlywlfWQP",
        "outputId": "57df0671-9e69-4a02-fed1-97945b4c903c"
      },
      "execution_count": 10,
      "outputs": [
        {
          "output_type": "stream",
          "name": "stdout",
          "text": [
            "Bir kelime girin: Zeynep\n",
            "Bir kelime girin: buse\n",
            "Bir kelime girin: rençber\n",
            "Bir kelime girin: Python\n",
            "Bir kelime girin: PROGRAMLAMA\n",
            "Büyük harfle başlayan kelimeler:\n",
            "Zeynep\n",
            "Python\n",
            "PROGRAMLAMA\n",
            "En kısa kelime: buse\n"
          ]
        }
      ]
    },
    {
      "cell_type": "code",
      "source": [
        "def tuple_kesisimi(tuple1, tuple2):\n",
        "    return tuple(set(tuple1) & set(tuple2))\n",
        "tuple1 = (1, 2, 3, 4, 5)\n",
        "tuple2 = (3, 4, 5, 6, 7)\n",
        "kesisim = tuple_kesisimi(tuple1, tuple2)\n",
        "print(\"Kesişim:\", kesisim)\n"
      ],
      "metadata": {
        "colab": {
          "base_uri": "https://localhost:8080/"
        },
        "id": "CoMidQ6GgUJQ",
        "outputId": "b80345e9-857f-4c9b-a882-d1fbf2ba9616"
      },
      "execution_count": 11,
      "outputs": [
        {
          "output_type": "stream",
          "name": "stdout",
          "text": [
            "Kesişim: (3, 4, 5)\n"
          ]
        }
      ]
    },
    {
      "cell_type": "code",
      "source": [
        "def ekokebobhesaplama(n1, n2):\n",
        "    carpim = n1 * n2\n",
        "    while n2:\n",
        "        n1, n2 = n2, n1 % n2\n",
        "    if n1 == 1:\n",
        "        return \"Yok\", \"Yok\"\n",
        "    return int(carpim / n1), n1\n",
        "n1 = 24\n",
        "n2 = 36\n",
        "sonuc = ekokebobhesaplama(n1, n2)\n",
        "print(f\"1'den büyük en küçük ortak bölen: {sonuc[0]}\")\n",
        "print(f\"En büyük ortak bölen: {sonuc[1]}\")\n"
      ],
      "metadata": {
        "colab": {
          "base_uri": "https://localhost:8080/"
        },
        "id": "UC2u4mdQiOw9",
        "outputId": "0d37be1a-c373-46c2-bc18-a6a641274105"
      },
      "execution_count": 8,
      "outputs": [
        {
          "output_type": "stream",
          "name": "stdout",
          "text": [
            "1'den büyük en küçük ortak bölen: 72\n",
            "En büyük ortak bölen: 12\n"
          ]
        }
      ]
    },
    {
      "cell_type": "code",
      "source": [
        "def tablo_gir():\n",
        "    tablo = []\n",
        "    print(\"Tablo değerlerini girin (2x3):\")\n",
        "    for _ in range(2):\n",
        "        satir = [int(input(f\"Değer ({_ + 1}, {i + 1}): \")) for i in range(3)]\n",
        "        tablo.append(satir)\n",
        "    return tablo\n",
        "\n",
        "def print_table(tablo):\n",
        "    print(\"Tablo:\")\n",
        "    for satir in tablo:\n",
        "        print(satir)\n",
        "\n",
        "def sum_rows(tablo):\n",
        "    print(\"Satırların toplamı:\")\n",
        "    for satir in tablo:\n",
        "        print(sum(satir))\n",
        "\n",
        "def sum_cols(tablo):\n",
        "    print(\"Sütunların toplamı:\")\n",
        "    for i in range(3):\n",
        "        print(sum(tablo[j][i] for j in range(2)))\n",
        "\n",
        "tablom = tablo_gir()\n",
        "print_table(tablom)\n",
        "sum_rows(tablom)\n",
        "sum_cols(tablom)\n"
      ],
      "metadata": {
        "colab": {
          "base_uri": "https://localhost:8080/"
        },
        "id": "gxoEukfims6D",
        "outputId": "4597ff19-04e7-4be3-9810-b3bbbc4ef0c7"
      },
      "execution_count": 9,
      "outputs": [
        {
          "output_type": "stream",
          "name": "stdout",
          "text": [
            "Tablo değerlerini girin (2x3):\n",
            "Değer (1, 1): 4\n",
            "Değer (1, 2): 5\n",
            "Değer (1, 3): 6\n",
            "Değer (2, 1): 7\n",
            "Değer (2, 2): 8\n",
            "Değer (2, 3): 9\n",
            "Tablo:\n",
            "[4, 5, 6]\n",
            "[7, 8, 9]\n",
            "Satırların toplamı:\n",
            "15\n",
            "24\n",
            "Sütunların toplamı:\n",
            "11\n",
            "13\n",
            "15\n"
          ]
        }
      ]
    }
  ]
}
