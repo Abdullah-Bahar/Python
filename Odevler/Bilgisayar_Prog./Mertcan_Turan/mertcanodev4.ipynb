{
  "nbformat": 4,
  "nbformat_minor": 0,
  "metadata": {
    "colab": {
      "provenance": []
    },
    "kernelspec": {
      "name": "python3",
      "display_name": "Python 3"
    },
    "language_info": {
      "name": "python"
    }
  },
  "cells": [
    {
      "cell_type": "code",
      "execution_count": 2,
      "metadata": {
        "colab": {
          "base_uri": "https://localhost:8080/"
        },
        "id": "sbgUmZ3CEGG0",
        "outputId": "f88d5f2c-dfe0-4505-8167-98abec0a0696"
      },
      "outputs": [
        {
          "output_type": "stream",
          "name": "stdout",
          "text": [
            "Pozitif bir sayı giriniz: 12\n",
            "12 sayısının rakamları toplamı: 3\n",
            "Bir sayı giriniz: 23\n",
            "23 sayısının tersi: 32\n",
            "Bir ikili sayı girin: 34\n",
            "Girilen değer bir ikili sayı değil.\n"
          ]
        }
      ],
      "source": [
        "def rakamlarToplami(sayi):\n",
        "    if sayi < 0:\n",
        "        raise ValueError(\"Pozitif bir sayı girmelisiniz.\")\n",
        "\n",
        "    toplam = 0\n",
        "    while sayi > 0:\n",
        "        toplam += sayi % 10\n",
        "        sayi //= 10\n",
        "    return toplam\n",
        "\n",
        "sayi1 = int(input(\"Pozitif bir sayı giriniz: \"))\n",
        "\n",
        "try:\n",
        "    sayiToplam = rakamlarToplami(sayi1)\n",
        "    print(f\"{sayi1} sayısının rakamları toplamı: {sayiToplam}\")\n",
        "except ValueError as hata:\n",
        "    print(hata)\n",
        "\n",
        "def DuzSayi(sayi):\n",
        "    tersSayi = int(str(sayi)[::-1])\n",
        "    return tersSayi\n",
        "\n",
        "sayim = int(input(\"Bir sayı giriniz: \"))\n",
        "\n",
        "sonuc = DuzSayi(sayim)\n",
        "print(f\"{sayim} sayısının tersi: {sonuc}\")\n",
        "\n",
        "\n",
        "\n",
        "def is_binary(string):\n",
        "    for char in string:\n",
        "        if char not in ['0', '1']:\n",
        "            return False\n",
        "    return True\n",
        "\n",
        "def convert_to_decimal(binary):\n",
        "    if is_binary(binary):\n",
        "        return int(binary, 2)\n",
        "    else:\n",
        "        raise ValueError(\"Girilen değer bir ikili sayı değil.\")\n",
        "\n",
        "kullanici_girisi = input(\"Bir ikili sayı girin: \")\n",
        "\n",
        "try:\n",
        "    ondalik_sonuc = convert_to_decimal(kullanici_girisi)\n",
        "    print(f\"{kullanici_girisi} sayısının ondalık karşılığı: {ondalik_sonuc}\")\n",
        "except ValueError as e:\n",
        "    print(e)\n",
        "\n"
      ]
    },
    {
      "cell_type": "code",
      "source": [],
      "metadata": {
        "id": "2pYYxEVmoxTO"
      },
      "execution_count": null,
      "outputs": []
    }
  ]
}