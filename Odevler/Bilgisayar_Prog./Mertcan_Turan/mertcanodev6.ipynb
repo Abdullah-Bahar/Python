{
  "nbformat": 4,
  "nbformat_minor": 0,
  "metadata": {
    "colab": {
      "provenance": []
    },
    "kernelspec": {
      "name": "python3",
      "display_name": "Python 3"
    },
    "language_info": {
      "name": "python"
    }
  },
  "cells": [
    {
      "cell_type": "code",
      "execution_count": null,
      "metadata": {
        "id": "bJnwpm_SuHyC"
      },
      "outputs": [],
      "source": [
        "#1. alıstırma\n",
        "def tablo_giris_al(satir_sayisi, sutun_sayisi):\n",
        "    tablo = []\n",
        "    print(\"Değer tablosunu girin:\")\n",
        "    for i in range(satir_sayisi):\n",
        "        satir = []\n",
        "        for j in range(sutun_sayisi):\n",
        "            deger = int(input(f\"Değer [{i + 1}][{j + 1}]: \"))\n",
        "            satir.append(deger)\n",
        "        tablo.append(satir)\n",
        "    return tablo\n",
        "\n",
        "def tabloyu_goruntule(tablo):\n",
        "    print(\"Tablo:\")\n",
        "    for satir in tablo:\n",
        "        print(satir)\n",
        "\n",
        "def satir_toplamlari_hesapla(tablo):\n",
        "    print(\"Satır toplamları:\")\n",
        "    for satir in tablo:\n",
        "        satir_toplam = sum(satir)\n",
        "        print(f\"{satir}: {satir_toplam}\")\n",
        "\n",
        "def sutun_toplamlari_hesapla(tablo):\n",
        "    print(\"Sütun toplamları:\")\n",
        "    for j in range(len(tablo[0])):\n",
        "        sutun_toplam = sum(satir[j] for satir in tablo)\n",
        "        print(f\"Sütun {j + 1}: {sutun_toplam}\")\n",
        "\n",
        "satir_sayisi = 2\n",
        "sutun_sayisi = 3\n",
        "\n",
        "benim_tablom = tablo_giris_al(satir_sayisi, sutun_sayisi)\n",
        "tabloyu_goruntule(benim_tablom)\n",
        "satir_toplamlari_hesapla(benim_tablom)\n",
        "sutun_toplamlari_hesapla(benim_tablom)\n",
        "#2. alıstırma\n",
        "\n",
        "\n",
        "\n",
        "\n",
        "\n",
        "\n",
        "\n",
        "#3. alıstırma\n",
        "sayi1 = int(input(\"Birinci sayıyı giriniz.:\"))\n",
        "sayi2 = int(input(\"İkinci sayıyı giriniz..:\"))\n",
        "\n",
        "if sayi1 < sayi2:\n",
        "    kucuk = sayi1\n",
        "else:\n",
        "    kucuk = sayi2\n",
        "\n",
        "for k in range(1, kucuk + 1):\n",
        "    if (sayi1 % k == 0) and (sayi2 % k == 0):\n",
        "        ebob = k\n",
        "        ekok = int((sayi1 * sayi2) / ebob)\n",
        "\n",
        "print(\"EBOB:\", ebob)\n",
        "print(\"EKOK:\", ekok)\n"
      ]
    },
    {
      "cell_type": "code",
      "source": [
        "def kelime_gecmisini_degistir(kelime_tablosu, giris_dizisi):\n",
        "    for kelime in kelime_tablosu:\n",
        "        giris_dizisi = giris_dizisi.replace(kelime, '*')\n",
        "    return giris_dizisi\n",
        "\n",
        "kelime_tablosu = []\n",
        "kelime = input(\"Kelime tablosuna eklemek için bir kelime girin (-1'e basarak sonlandırın): \")\n",
        "while kelime != '-1':\n",
        "    kelime_tablosu.append(kelime)\n",
        "    kelime = input(\"Kelime tablosuna eklemek için bir kelime girin (-1'e basarak sonlandırın): \")\n",
        "\n",
        "giris_dizisi = input(\"Dizeyi girin: \")\n",
        "sonuc_dizisi = kelime_gecmisini_degistir(kelime_tablosu, giris_dizisi)\n",
        "print(\"Sonuç:\", sonuc_dizisi)\n"
      ],
      "metadata": {
        "id": "Tl7xSldbzqjk"
      },
      "execution_count": null,
      "outputs": []
    },
    {
      "cell_type": "code",
      "source": [
        "def limiti_asan_ilk_ogeyi_bul_ve_kaldir(giris_listesi, limit):\n",
        "    for i, deger in enumerate(giris_listesi):\n",
        "        if deger > limit:\n",
        "            giris_listesi.pop(i)\n",
        "            break\n",
        "\n",
        "kullanici_listesi = []\n",
        "deger = input(\"Değer eklemek için bir sayı girin (-1'e basarak sonlandırın): \")\n",
        "while deger != '-1':\n",
        "    kullanici_listesi.append(int(deger))\n",
        "    deger = input(\"Değer eklemek için bir sayı girin (-1'e basarak sonlandırın): \")\n",
        "\n",
        "limit = int(input(\"Bir limit girin: \"))\n",
        "limiti_asan_ilk_ogeyi_bul_ve_kaldir(kullanici_listesi, limit)\n",
        "print(\"Güncellenmiş liste:\", kullanici_listesi)\n"
      ],
      "metadata": {
        "id": "OLiZ6WRjz1TD"
      },
      "execution_count": null,
      "outputs": []
    },
    {
      "cell_type": "code",
      "source": [
        "def kesisimi_bul(tuple1, tuple2):\n",
        "    set1 = set(tuple1)\n",
        "    set2 = set(tuple2)\n",
        "    kesisim = set1.intersection(set2)\n",
        "    return tuple(kesisim)\n",
        "\n",
        "tuple1 = tuple(input(\"İlk tuple'ı girin (örneğin, 1,2,3): \").split(','))\n",
        "tuple2 = tuple(input(\"İkinci tuple'ı girin (örneğin, 2,3,4): \").split(','))\n",
        "\n",
        "sonuc_kesisim = kesisimi_bul(tuple1, tuple2)\n",
        "print(\"Kesişim:\", sonuc_kesisim)\n"
      ],
      "metadata": {
        "id": "1xwPLvFdz5Nl"
      },
      "execution_count": null,
      "outputs": []
    },
    {
      "cell_type": "code",
      "source": [
        "def kelime_listesini_isle(kelime_listesi):\n",
        "    buyuk_harfle_baslayanlar = [kelime for kelime in kelime_listesi if kelime[0].isupper()]\n",
        "    en_kisa_kelime = min(kelime_listesi, key=len)\n",
        "    return buyuk_harfle_baslayanlar, en_kisa_kelime\n",
        "\n",
        "kelime_listesi = [input(f\"{i+1}. kelimeyi girin: \") for i in range(5)]\n",
        "\n",
        "buyuk_harfle_baslayanlar, en_kisa_kelime = kelime_listesini_isle(kelime_listesi)\n",
        "\n",
        "print(\"Büyük harfle başlayan kelimeler:\", buyuk_harfle_baslayanlar)\n",
        "print(\"En kısa kelime:\", en_kisa_kelime)\n"
      ],
      "metadata": {
        "id": "M1pVWHP10GGQ"
      },
      "execution_count": null,
      "outputs": []
    }
  ]
}