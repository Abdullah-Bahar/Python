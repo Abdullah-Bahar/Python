{
  "nbformat": 4,
  "nbformat_minor": 0,
  "metadata": {
    "colab": {
      "provenance": []
    },
    "kernelspec": {
      "name": "python3",
      "display_name": "Python 3"
    },
    "language_info": {
      "name": "python"
    }
  },
  "cells": [
    {
      "cell_type": "code",
      "execution_count": null,
      "metadata": {
        "id": "4FwXhNk5rYaj"
      },
      "outputs": [],
      "source": [
        "def otel_verilerini_kopyala(hedef_sehir):\n",
        "    try:\n",
        "        with open('oteller.txt') as kaynak, open('hedef_oteller.txt', 'w') as hedef:\n",
        "            hedef.writelines(satir for satir in kaynak if hedef_sehir in satir)\n",
        "        print(f\"{hedef_sehir} şehrindeki oteller hedef dosyaya kopyalandı.\")\n",
        "    except FileNotFoundError:\n",
        "        pass\n",
        "\n",
        "girilen_sehir = input(\"Lütfen aramak istediğiniz şehri girin: \")\n",
        "otel_verilerini_kopyala(girilen_sehir)\n",
        "def iki_sirali_dosyalari_birlestir(dosya1_adi, dosya2_adi):\n",
        "    try:\n",
        "        with open('birlesik_dosya.txt', 'w') as hedef_dosya:\n",
        "            hedef_dosya.writelines(sorted(open(dosya1_adi).readlines() + open(dosya2_adi).readlines()))\n",
        "        print(\"Dosyalar birleştirildi ve sıralandı.\")\n",
        "    except FileNotFoundError:\n",
        "        pass\n",
        "\n",
        "iki_sirali_dosyalari_birlestir('cicekler1.txt', 'cicekler2.txt')\n",
        "def dunya_nufus_yogunlugu_olustur(nufus_dosya, alan_dosya):\n",
        "    try:\n",
        "        with open('world_pop_density.txt', 'w') as hedef:\n",
        "            for nufus_satir, alan_satir in zip(open(nufus_dosya).readlines(), open(alan_dosya).readlines()):\n",
        "                ulke, nufus = nufus_satir.strip().split(',')\n",
        "                _, alan = alan_satir.strip().split(',')\n",
        "                hedef.write(f\"{ulke}: {int(nufus) / int(alan):.2f} kişi/km²\\n\")\n",
        "        print(\"world_pop_density.txt dosyası oluşturuldu.\")\n",
        "    except FileNotFoundError:\n",
        "        pass\n",
        "\n",
        "dunya_nufus_yogunlugu_olustur('05_worldpop.txt', '05_worldarea.txt')\n"
      ]
    },
    {
      "cell_type": "code",
      "source": [],
      "metadata": {
        "id": "xqdSaCtrrwPv"
      },
      "execution_count": null,
      "outputs": []
    }
  ]
}