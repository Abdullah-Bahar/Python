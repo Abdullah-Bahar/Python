def otelSehir(sehir, otel):
    try:
        with open('oteller.txt', 'a') as dosya:
            dosya.write(f"{sehir}-{otel}\n")
        print(f"{sehir} şehrine yeni otel başarıyla eklendi.")
    except Exception as hata:
        print(f"Hata oluştu: {hata}")
sehirim = input("Lütfen şehir adını girin: ")
otelim = input("Lütfen eklemek istediğiniz otel adını girin: ")
otelSehir(sehirim, otelim)


def cicekler(dosya1, dosya2):
    try:
        with open(dosya1, 'r') as dosya1, open(dosya2, 'r') as dosya2:
            cicekler1 = dosya1.readlines()
            cicekler2 = dosya2.readlines()
            with open('cicekbocek.txt', 'w') as birlesikDosya:
                for cicek in cicekler:
                    birlesikDosya.write(cicek)
            print(f"{dosya1.name} ve {dosya2.name} dosyaları birleştirildi ve 'cicekbocek.txt' dosyasına kaydedildi.")
    except FileNotFoundError:
        print("Dosya bulunamadı.")
dosyamAd = input("Lütfen ilk dosyanın adını girin: ")
dosyam2Ad = input("Lütfen ikinci dosyanın adını girin: ")
cicekler(dosyamAd, dosyam2Ad)


def nufusHesapla(nufusDosya, alanDosya, ciktiDosya):
    try:
        with open(nufusDosya, 'r') as dosyaNufus, open(alanDosya, 'r') as dosyaAlan, open(ciktiDosya, 'w') as dosyaCikti:
            nufusVeri = dosyaNufus.readlines()
            alanVeri = dosyaAlan.readlines()
            for i in range(len(nufusVeri)):
                nufus = int(nufusVeri[i].strip())
                alan = float(alanVeri[i].strip())
                nufusYogunluk = nufus / alan
                dosyaCikti.write(f"{nufusYogunluk:.2f} kişi/km² - {nufusVeri[i + 1].strip()}\n")
        print(f"Nüfus yoğunluğu hesaplandı ve '{ciktiDosya}' dosyasına kaydedildi.")
    except FileNotFoundError:
        print("Dosya bulunamadı.")
nufusDosyaAd = "05_worldpop.txt"
alanDosyaAd = "05_worldarea.txt"
ciktiDosyaAd = "world_pop_density.txt"
nufusHesapla(nufusDosyaAd, alanDosyaAd, ciktiDosyaAd)
