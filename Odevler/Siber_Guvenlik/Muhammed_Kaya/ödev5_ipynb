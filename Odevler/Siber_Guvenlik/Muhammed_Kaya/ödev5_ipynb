class Tablo:
    def __init__(self, satir_sayisi, sutun_sayisi):
        self.satir_sayisi = satir_sayisi
        self.sutun_sayisi = sutun_sayisi
        self.tablo = []

    def tablo_al(self):
        for i in range(self.satir_sayisi):
            satir = []
            for j in range(self.sutun_sayisi):
                deger = int(input(f"Satır {i+1}, Sütun {j+1} için değeri girin: "))
                satir.append(deger)
            self.tablo.append(satir)

    def tabloyu_goruntule(self):
        for satir in self.tablo:
            print(satir)

    def satir_toplamlari(self):
        for i, satir in enumerate(self.tablo):
            print(f"{i+1}. satırın toplamı: {sum(satir)}")

    def sutun_toplamlari(self):
        sutun_toplamlari = [sum(satir[j] for satir in self.tablo) for j in range(self.sutun_sayisi)]
        for j, sutun_toplam in enumerate(sutun_toplamlari):
            print(f"{j+1}. sütunun toplamı: {sutun_toplam}")

satir_sayisi = 2
sutun_sayisi = 3

benim_tablom = Tablo(satir_sayisi, sutun_sayisi)

benim_tablom.tablo_al()

print("Tablo:")
benim_tablom.tabloyu_goruntule()

benim_tablom.satir_toplamlari()

benim_tablom.sutun_toplamlari()




def yildizla_degistir(sozcuk_tablosu, hedef_sozcuk):

    return [sozcuk.replace(hedef_sozcuk, '*' * len(hedef_sozcuk)) for sozcuk in sozcuk_tablosu]

sozcuk_tablosu = ["elma", "armut", "elmaç", "kiraz", "elma"]
hedef_sozcuk = "elma"

degistirilmis_sozcuk_tablosu = yildizla_degistir(sozcuk_tablosu, hedef_sozcuk)
print(degistirilmis_sozcuk_tablosu)




def main():
    deger_listesi = []

    while True:
        deger = int(input("bir değer giriniz (sonlandırmak için -1 giriniz): "))
        if deger == -1:
            break
        deger_listesi.append(deger)

    limit = int(input("Bir limit giriniz: "))

    limiti_asan_index = limiti_asan_ilk_indexi_bul(deger_listesi, limit)

    if limiti_asan_index is not None:
        print(f"Listede limiti aşan ilk öğenin dizini: {limiti_asan_index}")
        deger_listesi.pop(limiti_asan_index)
        print("Limiti aşan öğe kaldırıldı.")
    else:
        print("Listede limiti aşan öğe bulunamadı.")

    print("Son liste:", deger_listesi)

def limiti_asan_ilk_indexi_bul(liste, limit):
    for i, deger in enumerate(liste):
        if deger > limit:
            return i
    return None

if __name__ == "__main__":
    main()





def main():
    kelime_listesi = []

    for i in range(5):
        kelime = input(f"{i + 1}. kelimeyi girin: ")
        kelime_listesi.append(kelime)

    buyuk_harfle_baslayanlari_goruntule(kelime_listesi)
    en_kisa_kelimeyi_goruntule(kelime_listesi)

def buyuk_harfle_baslayanlari_goruntule(kelime_listesi):
    print("Büyük harfle başlayan dizeler:")
    for kelime in reversed(kelime_listesi):
        if kelime[0].isupper():
            print(kelime)

def en_kisa_kelimeyi_goruntule(kelime_listesi):
    en_kisa_kelime = min(kelime_listesi, key=len)
    print(f"En kısa kelime: {en_kisa_kelime}")

if __name__ == "__main__":
    main()





def tuple_kesisimi(tuple1, tuple2):
    
    kesisim = tuple(set(tuple1) & set(tuple2))
    return kesisim

tuple1 = (1, 2, 3, 4, 5)
tuple2 = (3, 4, 5, 6, 7)

kesisim = tuple_kesisimi(tuple1, tuple2)
print("Tuple Kesişimi:", kesisim)






def ebob_ekok_bul(n1, n2):
    
    ebob = 1
    for i in range(1, min(n1, n2) + 1):
        if n1 % i == 0 and n2 % i == 0:
            ebob = i

    ekok = n1 * n2 // ebob if ebob != 0 else "Yok"

    return (ebob, ekok)

n1 = 12
n2 = 18

sonuc = ebob_ekok_bul(n1, n2)
print(f"EBOB: {sonuc[0]}, EKOK: {sonuc[1]}")






