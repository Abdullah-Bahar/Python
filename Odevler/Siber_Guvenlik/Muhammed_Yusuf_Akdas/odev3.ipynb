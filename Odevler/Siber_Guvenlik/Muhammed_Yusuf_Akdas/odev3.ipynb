bakiye = 1000
hedef = bakiye * 2
yil = 0

while bakiye < hedef:
  bakiye += bakiye * 15 / 100
  yil += 1

print(f"1000 Liralık yatırımı ikiye katlamak için {yil} yıl gerekir.")
     
1000 Liralık yatırımı ikiye katlamak için 5 yıl gerekir.

mikroo = int(input("İlk mikroorganizma sayısını girin:"))
i_mikroo = mikroo
gecen_saat = 0

while mikroo < 1000000:
  mikroo *= 2
  gecen_saat += 10

gecen_gun = int(gecen_saat / 24)
gecen_saat = int(gecen_saat - (gecen_gun * 24))

print(f"{i_mikroo} adet mikroorganizma, {gecen_gun} gün {gecen_saat} saatte 1000000’den fazla hale gelir.")
     
İlk mikroorganizma sayısını girin:20
20 adet mikroorganizma, 6 gün 16 saatte 1000000’den fazla hale gelir.

sayac = 0
toplam = 0

while True:
  sayi = int(input("Sayilari girin: "))

  if sayi < 0:
    break

  sayac += 1
  toplam += sayi

ortalama = toplam / sayac
print("Girilen sayıların ortalaması = ", ortalama)
     
Sayilari girin: 3
Sayilari girin: 5
Sayilari girin: 7
Sayilari girin: 9
Sayilari girin: -1
Girilen sayıların ortalaması =  6.0

import random

sayi = random.randint(1, 10)
sayac = 1

while True:
  tahmin = int(input("1-9 Arası tahmininizi girin: "))

  if tahmin == sayi:
    break

  sayac += 1

print(f"Sayıyı {sayac} tahminde doğru tahmin ettiniz.")
     
1-9 Arası tahmininizi girin: 3
1-9 Arası tahmininizi girin: 7
1-9 Arası tahmininizi girin: 5
1-9 Arası tahmininizi girin: 4
1-9 Arası tahmininizi girin: 1
1-9 Arası tahmininizi girin: 5
1-9 Arası tahmininizi girin: 6
1-9 Arası tahmininizi girin: 7
1-9 Arası tahmininizi girin: 8
Sayıyı 9 tahminde doğru tahmin ettiniz.
