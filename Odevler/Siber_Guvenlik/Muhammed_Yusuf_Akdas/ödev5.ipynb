{
  "nbformat": 4,
  "nbformat_minor": 0,
  "metadata": {
    "colab": {
      "provenance": []
    },
    "kernelspec": {
      "name": "python3",
      "display_name": "Python 3"
    },
    "language_info": {
      "name": "python"
    }
  },
  "cells": [
    {
      "cell_type": "code",
      "execution_count": null,
      "metadata": {
        "id": "t0BQTawuIjrq"
      },
      "outputs": [],
      "source": [
        "def otel_kopyala(sehir, kaynak_dosya, hedef_dosya):\n",
        "    try:\n",
        "        with open(kaynak_dosya, 'r') as kaynak, open(hedef_dosya, 'w') as hedef:\n",
        "            for satir in kaynak:\n",
        "                if sehir.lower() in satir.lower():\n",
        "                    hedef.write(satir)\n",
        "        print(f\"{sehir} şehrindeki otellere '{hedef_dosya}' dosyasından ulaşabilirsiniz.\")\n",
        "    except FileNotFoundError:\n",
        "        print(f\"{kaynak_dosya} dosyası bulunamadı.\")\n",
        "\n",
        "def goster():\n",
        "    kaynak_dosya = \"oteller.txt\"\n",
        "    hedef_dosya = \"otelciktisi.txt\"\n",
        "\n",
        "    sehir = input(\"Hangi şehirdeki otelleri aramak istersin? \")\n",
        "\n",
        "    otel_kopyala(sehir, kaynak_dosya, hedef_dosya)\n",
        "\n",
        "goster()\n",
        "\n",
        "Hangi şehirdeki otelleri aramak istersin? İzmir\n",
        "Aksaray şehrindeki otellere 'otelciktisi.txt' dosyasından ulaşabilirsiniz.\n",
        "\n",
        "def birlestir_sirala_yaz(dosya1, dosya2, cikti):\n",
        "    with open(dosya1, 'r') as f1, open(dosya2, 'r') as f2:\n",
        "        cicekler = sorted(set(f1.read().splitlines() + f2.read().splitlines()))\n",
        "\n",
        "    with open(cikti, 'w') as cikti:\n",
        "        cikti.write('\\n'.join(cicekler))\n",
        "\n",
        "dosya1 = 'cicekdosya.txt'\n",
        "dosya2 = 'cicekdosya2.txt'\n",
        "birlesik_dosya = 'birlesim.txt'\n",
        "\n",
        "birlestir_sirala_yaz(dosya1, dosya2, birlesik_dosya)\n",
        "\n",
        "\n",
        "def nufus_yogunlugu_hesapla(nufus, alan, cikti):\n",
        "    with open(nufus) as nufus, open(alan) as alan, open(cikti, 'w') as cikti:\n",
        "        cikti.write('\\n'.join(f\"{int(n)/float(a):.2f}\" for n, a in zip(nufus, alan) if float(a) != 0))\n",
        "\n",
        "nufus = '05_worldpop.txt'\n",
        "alan = '05_worldarea.txt'\n",
        "cikti = 'world_pop_density.txt'\n",
        "\n",
        "nufus_yogunlugu_hesapla(nufus, alan, cikti)"
      ]
    }
  ]
}
