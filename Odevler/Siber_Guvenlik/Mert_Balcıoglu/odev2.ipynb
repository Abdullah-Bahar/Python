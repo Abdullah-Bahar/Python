sayi=int(input("Bir sayi giriniz: "))
if sayi % 5 == 0 or sayi %7 == 0:
    print(f"{sayi}, 5 veya 7 ye bolunur")
else:
    print(f"{sayi},5 veya 7 ye bolunmez")
Bir sayi giriniz: 7
7, 5 veya 7 ye bolunur

import random
hedef_sayi=random.randint(1,9)

while True:
  tahmin = int(input("1 ile 9 arasında bir sayı yaz: "))

  if tahmin == hedef_sayi:
    print("Dogru",hedef_sayi)
    break
  else:
    print("Yanlis")
1 ile 9 arasında bir sayı yaz: 7
Dogru 7

kelime = input("Bir kelime gir:")
if len(kelime) < 1 :
  print("En az iki harf olmali:(")
else:
  ilkharf=kelime[0]
  sonharf=kelime[-1]
  if ilkharf==sonharf:
    print(f"{kelime} bas ve son harf ayni:)")
  else:
    print(f"{kelime} bas ve son harf farkli:(")
Bir kelime gir:Ezgi
Ezgi bas ve son harf farkli:(

boy=float(input("Boyunu metre olarak gir "))
kilo=float(input("Kilonu kilogram olarak gir "))
indeks=kilo/(boy*boy)
if indeks<20:
  print("Zayif")
elif 20<= indeks <25:
  print("Normal")
  print("İndeks: ",indeks)
elif 25<=indeks<30:
  print("Asiri kilolu")
  print("İndeks: ",indeks)
else:
  print("Kilo vermeli")
  print("İndeks: ",indeks)
Boyunu metre olarak gir 1.78
Kilonu kilogram olarak gir 79
Normal
İndeks:  24.933720489837143



