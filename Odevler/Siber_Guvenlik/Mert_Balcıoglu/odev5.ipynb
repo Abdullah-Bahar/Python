dosya = open("oteller.txt", "r")
yeni_dosya = open("oteller.txt", "w")
sehir = input("Sehir adi giriniz: ")
for satir in dosya:
  bolunmus_satir = satir.split("-")
  satirdaki_sehir = bolunmus_satir[0]
  otel = bolunmus_satir[1]
  if satirdaki_sehir == sehir:
    print(otel)
    yeni_dosya.write(otel)
dosya.close()
yeni_dosya.close()

dosya1 = open("cicekler1.txt", "r")
dosya2 = open("cicekler2.txt", "r")
liste2 = dosya2.readlines()
liste3 = liste1 + liste2
liste3.sort()
dosya3 = open("cicekler3.txt", "w")
for cicek in liste3:
  dosya3.write(cicek)
dosya1.close()
dosya2.close()
dosya3.close()

dosya1 = open("cicekler1.txt", "r")
dosya2 = open("cicekler2.txt", "r")
liste2 = dosya2.readlines()
liste3 = liste1 + liste2
liste3.sort()
dosya3 = open("cicekler3.txt", "w")
for cicek in liste3:
  dosya3.write(cicek)
dosya1.close()
dosya2.close()
dosya3.close()
