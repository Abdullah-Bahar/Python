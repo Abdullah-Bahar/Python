ana_bakiye =10000
faiz_orani =0.15
hedef_bakiye=ana_bakiye * 2
yil=0
while ana_bakiye < hedef_bakiye:
  ana_bakiye+= ana_bakiye * faiz_orani
  yil+=1
print(f"10000TL,yıllık %15 faiz oranı ile {yil} yıl sonra ikiye katlanır.")
10000TL,yıllık %15 faiz oranı ile 5 yıl sonra ikiye katlanır.

organizma = int(input("Baslangic miktarini gir: "))
ilk = organizma
saat = 0
while organizma < 1000000:
  organizma *= 2
  saat += 10
gun = int(saat/24)
saat = int(saat-(gun*24))
print(f"{ilk} adet organizma, {gun} gün {saat} saat sonra 1M'den fazla hale gelir.")
Baslangic miktarini gir: 2
2 adet organizma, 7 gün 22 saat sonra 1M'den fazla hale gelir.

print("negatif bir sayi girene kadar yazdiginiz sayilarin ortalamasi alincaktır")
toplam=0
sayac=0
while True:
  sayi=int(input("ortalamasi alinacak sayi gir "))
  if sayi < 0:
    break
  sayac += 1
  toplam += sayi
ortalama=toplam / sayac
print(f"ortalama: {ortalama}")
negatif bir sayi girene kadar yazdiginiz sayilarin ortalamasi alincaktır
ortalamasi alinacak sayi gir 2
ortalamasi alinacak sayi gir 6
ortalamasi alinacak sayi gir -1
ortalama: 4.0

