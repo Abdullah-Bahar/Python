kelvin=int(input("Kelvin giriniz: "))
celcius=kelvin+273
print("Derece: ",celcius)
Kelvin giriniz: 27
Derece:  300

yaricap=float(input("Dairenin yaricapini gir: "))
alan=(3.14*(yaricap*yaricap))
cevre=(2*3.14*yaricap)
print("Dairenin alanı: ",alan)
print("Dairenin cevresi: ",cevre)
Dairenin yaricapini gir: 3
Dairenin alanı:  28.26
Dairenin cevresi:  18.84

sayi=int(input(print('4 basamakli sayi gir:')))
ilk=sayi // 1000
son=sayi % 10
toplam=ilk+son
print("Toplam: ",toplam)
4 basamakli sayi gir:
None5009
Toplam:  14

hız=80
yol=500
zaman=yol/hız
print("Zaman: ",zaman)
Zaman:  6.25

