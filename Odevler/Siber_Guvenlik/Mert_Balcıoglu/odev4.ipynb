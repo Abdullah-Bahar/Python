def rakamlaritopla(sayi):
  toplam = 0
  while sayi > 0:
    toplam += sayi % 10
    sayi //= 10
  return toplam
sayi = int(input("pozitif bir sayi gir: "))
print(f"{sayi}'nin rakamlari toplami = {rakamlaritopla(sayi)}")
pozitif bir sayi gir: 12
12'nin rakamlari toplami = 3

def ters(sayi):
  terssayi=str(sayi)[::-1]
  return int(terssayi)
sayi=int(input("Bir sayi gir: "))
terssayi=ters(sayi)
print(f"Sayinin tersi {terssayi}")
Bir sayi gir: 11833000
Sayinin tersi 33811

