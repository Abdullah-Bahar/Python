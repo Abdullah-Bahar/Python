1)
def otel_bul(dosya_adi, sehir):
  otel_listesi = []
  with open(dosya_adi, "r") as dosya:
    for satir in dosya:
      satir_parcalari = satir.split("-")
      if satir_parcalari[0] == sehir:
        otel_listesi.append(satir_parcalari[1])
  return otel_listesi


def main():
  dosya_adi = input("Dosya adını girin: ")
  sehir = input("Aradığınız şehri girin: ")
  otel_listesi = otel_bul(dosya_adi, sehir)
  with open("oteller.txt", "w") as dosya:
    dosya.write("\n".join(otel_listesi))
  print("İşlem tamamlandı.")


if __name__ == "__main__":
  main()

2)
def dosyalari_birlestir(dosya1, dosya2, cikis_dosya):
  with open(dosya1, "r") as dosya1:
    liste1 = dosya1.readlines()
  with open(dosya2, "r") as dosya2:
    liste2 = dosya2.readlines()
  liste = sorted(liste1 + liste2)
  with open(cikis_dosya, "w") as dosya:
    dosya.writelines(liste)


if __name__ == "__main__":
  dosya1 = input("Birinci dosyanın adını girin: ")
  dosya2 = input("İkinci dosyanın adını girin: ")
  cikis_dosya = input("Çıktı dosyasının adını girin: ")
  dosyalari_birlestir(dosya1, dosya2, cikis_dosya)

3)
def nufus_yogunlugunu_hesapla(ulke_adi, nufus, alan):
  return nufus / alan


def main():
  with open("05_worldpop.txt", "r") as dosya1:
    nufuslar = dosya1.readlines()
  with open("05_worldarea.txt", "r") as dosya2:
    alanlar = dosya2.readlines()

  nufuslar = [satir.strip() for satir in nufuslar]
  alanlar = [satir.strip() for satir in alanlar]

  ulke_adlari = [satir.split(":")[0] for satir in nufuslar]
  nufuslar = [int(satir.split(":")[1]) for satir in nufuslar]
  alanlar = [float(satir.split(":")[1]) for satir in alanlar]

  with open("world_pop_density.txt", "w") as dosya:
    for ulke_adi, nufus, alan in zip(ulke_adlari, nufuslar, alanlar):
      dosya.write(f"{ulke_adi}: {nufus_yogunlugunu_hesapla(ulke_adi, nufus, alan):.2f}\n")


if __name__ == "__main__":
  main()
