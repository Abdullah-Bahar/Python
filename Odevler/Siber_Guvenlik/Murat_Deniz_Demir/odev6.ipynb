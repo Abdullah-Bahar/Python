1)
def print_tablo(tablo):
    for satir in tablo:
        print(satir)

def satir_toplam(tablo):
    for satir in tablo:
        print(f"Satır toplamı: {sum(satir)}")

def sutun_toplam(tablo):
    for i in range(len(tablo[0])):
        sutun_toplam = 0
        for satir in tablo:
            sutun_toplam += satir[i]
        print(f"Sütun toplamı: {sutun_toplam}")

tablo = []
for i in range(2):
    satir = []
    for j in range(3):
        satir.append(int(input(f"Değer tablosu için [{i}][{j}] girin: ")))
    tablo.append(satir)

print_tablo(tablo)
satir_toplam(tablo)
sutun_toplam(tablo)

2)
def gizle(sözcük_tablosu, dize):
    for sözcük in sözcük_tablosu:
        dize = dize.replace(sözcük, '*' * len(sözcük))
    return dize

tablo = ["sivas", "deniz", "bir"]
gizlenmis_dize = gizle(tablo, "Sivas güzel bir memleket.")
print("Gizlenmiş Dize:", gizlenmis_dize)

3)
def kullanıcıdan_değer_al():
  değer = input("Bir değer girin: ")
  değer = int(değer)
  return değer

def listeden_ilk_limit_aşanı_kaldır(liste, limit):
  i = 0
  while i < len(liste):
    if liste[i] > limit:
      liste.pop(i)
      return i
    i += 1
  return None

liste = []
while True:
  değer = kullanıcıdan_değer_al()
  if değer == -1:
    break
  liste.append(değer)

limit = int(input("Bir limit girin: "))

indeks = listeden_ilk_limit_aşanı_kaldır(liste, limit)
if indeks is not None:
  print(f"Listeden limiti aşan ilk öğe {indeks}. indeksinde kaldırıldı.")
else:
  print("Listede limiti aşan öğe bulunamadı.")

4)
kelimeler = []
for i in range(5):
    kelime = input("Lütfen bir kelime girin: ")
    kelimeler.append(kelime)

buyuk_harfle_baslayanlar = [kelime for kelime in reversed(kelimeler) if kelime[0].isupper()]
print("Büyük harfle başlayan dizeler: ", buyuk_harfle_baslayanlar)

en_kisa_kelime = min(kelimeler, key=len)
print("En kısa kelime: ", en_kisa_kelime)

5)
def tuple_kesisimi(tuple1, tuple2):
    kesisim = tuple(set(tuple1) & set(tuple2))
    return kesisim

tuple1 = (1, 2, 3, 4, 5)
tuple2 = (4, 5, 6, 7, 8)

kesisim = tuple_kesisimi(tuple1, tuple2)
print("Kesişim:", kesisim)

6)
def ekok_ebob_bul(n1, n2):
    def ebob_bul(a, b):
        while b:
            a, b = b, a % b
        return a

    def ekok_bul(a, b):
        return a * b // ebob_bul(a, b)

    ekok = ekok_bul(n1, n2)
    ebob = ebob_bul(n1, n2)

    if ekok == 1 and ebob == 1:
        return "Yok", "Yok"
    else:
        return ekok, ebob

n1 = 12
n2 = 18
sonuc = ekok_ebob_bul(n1, n2)
print(f"{n1} ve {n2} için EKOK ve EBOB:", sonuc)
