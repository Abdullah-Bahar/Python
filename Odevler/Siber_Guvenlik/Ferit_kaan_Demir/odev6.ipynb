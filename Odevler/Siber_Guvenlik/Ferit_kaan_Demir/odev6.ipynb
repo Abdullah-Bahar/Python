1-)
class ValueTable:
    def __init__(self, rows, cols):
        self.rows = rows
        self.cols = cols
        self.table = [[0] * cols for _ in range(rows)]

    def get_table_input(self):
        print("Değer tablosunu girin ({}x{}):".format(self.rows, self.cols))
        for i in range(self.rows):
            for j in range(self.cols):
                value = float(input("Değer girin ({},{}): ".format(i + 1, j + 1)))
                self.table[i][j] = value

    def print_table(self):
        print("Tablo:")
        for row in self.table:
            print(row)

    def sum_rows(self):
        print("Satır toplamları:")
        for i in range(self.rows):
            row_sum = sum(self.table[i])
            print("Satır {}: {}".format(i + 1, row_sum))

    def sum_cols(self):
        print("Sütun toplamları:")
        for j in range(self.cols):
            col_sum = sum(row[j] for row in self.table)
            print("Sütun {}: {}".format(j + 1, col_sum))


# Kullanıcıdan tablo girişi al
rows = 2
cols = 3
value_table = ValueTable(rows, cols)
value_table.get_table_input()

# Tabloyu görüntüle
value_table.print_table()

# Satır toplamlarını görüntüle
value_table.sum_rows()

# Sütun toplamlarını görüntüle
value_table.sum_cols()


2-)
def replace_word_with_stars(word_table, input_string):
    for word in word_table:
        input_string = input_string.replace(word, '*' * len(word))
    return input_string

# Örnek kullanım:
word_table = ["Python", "programlama", "örnek"]
input_string = "Python çok güçlü bir programlama dilidir. Bu bir Python örneğidir."

result = replace_word_with_stars(word_table, input_string)
print(result)


3-)
def main():
    # Değerleri saklamak için boş bir liste oluştur
    deger_listesi = []

    # Kullanıcı -1 girene kadar değerleri al
    while True:
        deger = int(input("Bir değer girin (Çıkış için -1): "))
        if deger == -1:
            break
        deger_listesi.append(deger)

    # Bir limit gir
    limit = int(input("Limiti girin: "))

    # Limiti aşan ilk öğenin dizinini ve değerini bul
    for index, value in enumerate(deger_listesi):
        if value > limit:
            print(f"Limiti aşan ilk öğe: Değer = {value}, İndex = {index}")
            # Limiti aşan ilk öğeyi listeden kaldır
            deger_listesi.pop(index)
            break

    # Güncellenmiş listeyi görüntüle
    print("Güncellenmiş Liste:", deger_listesi)

if __name__ == "__main__":
    main()


4-)
def main():
    # Kullanıcıdan 5 kelime al
    kelime_listesi = []
    for i in range(5):
        kelime = input(f"{i + 1}. kelimeyi girin: ")
        kelime_listesi.append(kelime)

    # Listenin sonundan başlayarak büyük harfle başlayan dizeleri görüntüle
    print("Listedeki büyük harfle başlayan dizeler:")
    for kelime in reversed(kelime_listesi):
        if kelime[0].isupper():
            print(kelime)

    # Listedeki en kısa kelimeyi bul ve görüntüle
    en_kisa_kelime = min(kelime_listesi, key=len)
    print("Listedeki en kısa kelime:", en_kisa_kelime)

if __name__ == "__main__":
    main()


5-)
def tuple_kesisimi(tuple1, tuple2):
    # İki tuple'ın kesişimini bul
    kesisim = tuple(set(tuple1) & set(tuple2))
    return kesisim

# Örnek kullanım:
tuple1 = (1, 2, 3, 4, 5)
tuple2 = (4, 5, 6, 7, 8)

kesisim = tuple_kesisimi(tuple1, tuple2)
print("Tuple Kesişimi:", kesisim)


6-)
def obeb_ekok_bul(n1, n2):
    def obeb(a, b):
        while b:
            a, b = b, a % b
        return a

    def ekok(a, b):
        return a * b // obeb(a, b)

    if n1 > 0 and n2 > 0:
        obeb_sonuc = obeb(n1, n2)
        ekok_sonuc = ekok(n1, n2)
        return obeb_sonuc, ekok_sonuc
    else:
        return "Geçersiz giriş", "Geçersiz giriş"

# Örnek kullanım:
n1 = int(input("Birinci pozitif tam sayıyı girin: "))
n2 = int(input("İkinci pozitif tam sayıyı girin: "))

sonuc_obeb, sonuc_ekok = obeb_ekok_bul(n1, n2)

if sonuc_obeb == "Geçersiz giriş":
    print("Geçersiz giriş! Pozitif tam sayılar girilmelidir.")
else:
    print("En Büyük Ortak Bölen (OBEB):", sonuc_obeb)
    print("En Küçük Ortak Bölen (EKOK):", sonuc_ekok)





