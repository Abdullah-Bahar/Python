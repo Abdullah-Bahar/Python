{
  "nbformat": 4,
  "nbformat_minor": 0,
  "metadata": {
    "colab": {
      "provenance": []
    },
    "kernelspec": {
      "name": "python3",
      "display_name": "Python 3"
    },
    "language_info": {
      "name": "python"
    }
  },
  "cells": [
    {
      "cell_type": "code",
      "execution_count": 2,
      "metadata": {
        "colab": {
          "base_uri": "https://localhost:8080/"
        },
        "id": "riezjfK_nLq8",
        "outputId": "7b85c5f8-b49d-445d-eea6-1277b9ce9c30"
      },
      "outputs": [
        {
          "output_type": "stream",
          "name": "stdout",
          "text": [
            "Matrisin 0 kolunu 0 sutunu icin bir Sayi Giriniz: 1\n",
            "Matrisin 0 kolunu 1 sutunu icin bir Sayi Giriniz: 2\n",
            "Matrisin 0 kolunu 2 sutunu icin bir Sayi Giriniz: 3\n",
            "Matrisin 1 kolunu 0 sutunu icin bir Sayi Giriniz: 1\n",
            "Matrisin 1 kolunu 1 sutunu icin bir Sayi Giriniz: 3\n",
            "Matrisin 1 kolunu 2 sutunu icin bir Sayi Giriniz: 5\n",
            "\n",
            "\n",
            "1- Soru)\n",
            "\n",
            "Olusturulan Tablo:\n",
            "[1, 2, 3]\n",
            "[1, 3, 5]\n",
            "\n",
            "\n",
            "2- Soru)\n",
            "\n",
            "1.satirin toplami:6, 2. satirin toplami:9\n",
            "\n",
            "\n",
            "3- Soru)\n",
            "\n",
            "1.kolonun toplami: 2 , 2.kolonun toplami: 5 , 3.kolonun toplami: 8\n"
          ]
        }
      ],
      "source": [
        "dizi = []\n",
        "\n",
        "\n",
        "for i in range(0,2,1):\n",
        "    satir=[]\n",
        "\n",
        "    for j in range(0,3,1):\n",
        "        deger= int(input(\"Matrisin \"+str(i)+\" kolunu \"+str(j)+\" sutunu icin bir Sayi Giriniz: \"))\n",
        "\n",
        "        satir.append(deger)\n",
        "    dizi.append(satir)\n",
        "\n",
        "\n",
        "\n",
        "def print_table(dizi,satir):\n",
        "    print(\"\\n\")\n",
        "    print(\"1- Soru)\\n\")\n",
        "    print(\"Olusturulan Tablo:\")\n",
        "\n",
        "    for satir in dizi:\n",
        "\n",
        "        print(satir)\n",
        "\n",
        "\n",
        "\n",
        "print_table(dizi,satir)\n",
        "\n",
        "\n",
        "\n",
        "def sum_rows(dizi):\n",
        "\n",
        "    toplam0 = 0\n",
        "    toplam1 = 0\n",
        "\n",
        "    for i in range(3):\n",
        "\n",
        "        toplam0 = toplam0 + int(dizi[0][i])\n",
        "\n",
        "    for j in range(3):\n",
        "        toplam1 = toplam1 + int(dizi[1][j])\n",
        "\n",
        "    print(\"\\n\")\n",
        "    print(\"2- Soru)\\n\")\n",
        "    print(\"1.satirin toplami:\"+str(toplam0)+\", 2. satirin toplami:\"+str(toplam1))\n",
        "\n",
        "\n",
        "sum_rows(dizi)\n",
        "\n",
        "\n",
        "\n",
        "def sum_cols(dizi):\n",
        "\n",
        "    toplam0 = 0\n",
        "    toplam1 = 0\n",
        "    toplam2 = 0\n",
        "\n",
        "\n",
        "    for i in range(2):\n",
        "\n",
        "        toplam0 = toplam0 + int(dizi[i][0])\n",
        "\n",
        "    for j in range(2):\n",
        "        toplam1 = toplam1 + int(dizi[j][1])\n",
        "\n",
        "    for x in range(2):\n",
        "        toplam2 = toplam2 + int(dizi[x][2])\n",
        "\n",
        "\n",
        "    print(\"\\n\")\n",
        "    print(\"3- Soru)\\n\")\n",
        "    print(\"1.kolonun toplami:\",toplam0,\", 2.kolonun toplami:\",toplam1,\", 3.kolonun toplami:\",toplam2)\n",
        "\n",
        "\n",
        "\n",
        "\n",
        "\n",
        "\n",
        "sum_cols(dizi)"
      ]
    },
    {
      "cell_type": "code",
      "source": [
        "def kelime_degistir(liste,kelime):\n",
        "\n",
        "    for i in range(sayac):\n",
        "        if kelime == liste[i]:\n",
        "            liste[i] = \"*\" * len(liste[i])\n",
        "\n",
        "    return liste\n",
        "\n",
        "\n",
        "\n",
        "\n",
        "\n",
        "dizi = []\n",
        "\n",
        "sayac = int(input(\"Kac tane kelime gireceksiniz: \"))\n",
        "\n",
        "for i in range(sayac):\n",
        "    dizi.append(input(str(i+1)+\" kelimeyi giriniz: \"))\n",
        "\n",
        "\n",
        "sozcuk = input(\"Degistirmek Istediğiniz Kelimeyi Giriniz:\")\n",
        "\n",
        "\n",
        "\n",
        "dizi1= kelime_degistir(dizi,sozcuk)\n",
        "\n",
        "for x in range(sayac):\n",
        "\n",
        "    print(dizi1[x])"
      ],
      "metadata": {
        "colab": {
          "base_uri": "https://localhost:8080/"
        },
        "id": "MGRBi0hBntMu",
        "outputId": "71a9db17-12f3-4c06-b8a0-572ac19dda8b"
      },
      "execution_count": 3,
      "outputs": [
        {
          "output_type": "stream",
          "name": "stdout",
          "text": [
            "Kac tane kelime gireceksiniz: 3\n",
            "1 kelimeyi giriniz: arda\n",
            "2 kelimeyi giriniz: arslan\n",
            "3 kelimeyi giriniz: merhaba\n",
            "Degistirmek Istediğiniz Kelimeyi Giriniz:merhaba\n",
            "arda\n",
            "arslan\n",
            "*******\n"
          ]
        }
      ]
    },
    {
      "cell_type": "code",
      "source": [
        "def en_buyuk_sayi (dizi,limit):\n",
        "    sayac = 0\n",
        "    for sayilar in dizi:\n",
        "\n",
        "        if sayilar> limit:\n",
        "            break\n",
        "        else:\n",
        "            sayac = sayac + 1\n",
        "    print(\"\\n\")\n",
        "    print(\"Dizide Limiti Asan Ilk Deger:\"+str(dizi[sayac]))\n",
        "    dizi.pop(sayac)\n",
        "    return dizi\n",
        "\n",
        "\n",
        "\n",
        "\n",
        "\n",
        "dizi = []\n",
        "print(\"[-1] Sayisi Ile Diziye Deger Eklemeyi Sonlandiriniz!!!\\n\")\n",
        "\n",
        "\n",
        "while 1:\n",
        "\n",
        "    sayi = int(input(\"Sayi degeri giriniz: \"))\n",
        "\n",
        "    if sayi == -1:\n",
        "        print(\"Deger Ekleme Islemi Sonlandirilmistir...\")\n",
        "\n",
        "        break\n",
        "\n",
        "    else:\n",
        "        dizi.append(sayi)\n",
        "\n",
        "print(\"\\n\")\n",
        "limit = int(input(\"Bir Limit Degeri Giriniz:\"))\n",
        "\n",
        "dizi1 = en_buyuk_sayi(dizi,limit)\n",
        "\n",
        "print(\"\\n\")\n",
        "print(\"Dizinin Yeni Hali Bu Sekildedir: \")\n",
        "\n",
        "for kelime in dizi1:\n",
        "    print(kelime)"
      ],
      "metadata": {
        "colab": {
          "base_uri": "https://localhost:8080/"
        },
        "id": "-RxmSa_Mn14Z",
        "outputId": "da337cbf-d4e0-4948-e3fd-19a390b8a730"
      },
      "execution_count": 4,
      "outputs": [
        {
          "output_type": "stream",
          "name": "stdout",
          "text": [
            "[-1] Sayisi Ile Diziye Deger Eklemeyi Sonlandiriniz!!!\n",
            "\n",
            "Sayi degeri giriniz: 3\n",
            "Sayi degeri giriniz: 5\n",
            "Sayi degeri giriniz: 7\n",
            "Sayi degeri giriniz: 9\n",
            "Sayi degeri giriniz: -1\n",
            "Deger Ekleme Islemi Sonlandirilmistir...\n",
            "\n",
            "\n",
            "Bir Limit Degeri Giriniz:7\n",
            "\n",
            "\n",
            "Dizide Limiti Asan Ilk Deger:9\n",
            "\n",
            "\n",
            "Dizinin Yeni Hali Bu Sekildedir: \n",
            "3\n",
            "5\n",
            "7\n"
          ]
        }
      ]
    },
    {
      "cell_type": "code",
      "source": [
        "def buyuk_harf (dizi):\n",
        "\n",
        "    for kelime in dizi:\n",
        "        if kelime >=\"A\" and kelime <= \"Z\":\n",
        "            print(\"Buyuk Harfli Kelimeler: \"+kelime)\n",
        "\n",
        "def min_kelime (dizi):\n",
        "\n",
        "    sayac = 0\n",
        "    temp = len(dizi[0])\n",
        "    for i in range(1,len(dizi),1):\n",
        "        if len(dizi[i]) < temp:\n",
        "            temp = len(dizi[i])\n",
        "            sayac = i\n",
        "\n",
        "\n",
        "    print(\"En Kisa Kelime: \"+dizi[sayac])\n",
        "\n",
        "\n",
        "\n",
        "sayac = int(input(\"Diziye Kac Tane Deger Eklenecek: \"))\n",
        "\n",
        "dizi = []\n",
        "\n",
        "for i in range(sayac):\n",
        "    kelime = input(\"Bir Kelime Giriniz: \")\n",
        "    dizi.append(kelime)\n",
        "\n",
        "\n",
        "print(\"\\n\")\n",
        "buyuk_harf(dizi)\n",
        "print(\"\\n\")\n",
        "min_kelime(dizi)"
      ],
      "metadata": {
        "colab": {
          "base_uri": "https://localhost:8080/"
        },
        "id": "GmWPNpjmoDoB",
        "outputId": "df87dd6f-39dc-4d9c-cd28-7e507557241b"
      },
      "execution_count": 1,
      "outputs": [
        {
          "output_type": "stream",
          "name": "stdout",
          "text": [
            "Diziye Kac Tane Deger Eklenecek: 5\n",
            "Bir Kelime Giriniz: arda\n",
            "Bir Kelime Giriniz: Arslan\n",
            "Bir Kelime Giriniz: Cok\n",
            "Bir Kelime Giriniz: Kolay\n",
            "Bir Kelime Giriniz: merhaba\n",
            "\n",
            "\n",
            "Buyuk Harfli Kelimeler: Arslan\n",
            "Buyuk Harfli Kelimeler: Cok\n",
            "Buyuk Harfli Kelimeler: Kolay\n",
            "\n",
            "\n",
            "En Kisa Kelime: Cok\n"
          ]
        }
      ]
    },
    {
      "cell_type": "code",
      "source": [
        "\n",
        "def tuple_kesisim (temp1, temp2):\n",
        "    deneme = []\n",
        "\n",
        "    for i in range(len(temp2)):\n",
        "\n",
        "        if temp1[i] == temp2[0]:\n",
        "            deneme.append(temp2[0])\n",
        "        if temp1[i] == temp2[1]:\n",
        "            deneme.append(temp2[1])\n",
        "        if temp1[i] == temp2[2]:\n",
        "            deneme.append(temp2[2])\n",
        "        if temp1[i] == temp2[3]:\n",
        "            deneme.append(temp2[3])\n",
        "        if temp1[i] == temp2[4]:\n",
        "            deneme.append(temp2[4])\n",
        "\n",
        "    print(\"Iki Tuple Arasında Kesisen Elemanlarin Listesi:\"+str(deneme))\n",
        "\n",
        "\n",
        "tuple_1 = (\"a\",\"r\",5,6,\"y\")\n",
        "\n",
        "tuple_2 = (1,3,5,\"a\",\"c\")\n",
        "\n",
        "tuple_kesisim(tuple_1,tuple_2)\n"
      ],
      "metadata": {
        "colab": {
          "base_uri": "https://localhost:8080/"
        },
        "id": "avYKGGcCAYz4",
        "outputId": "2ba2646f-b383-4b5b-fbed-7c5094c5f464"
      },
      "execution_count": 6,
      "outputs": [
        {
          "output_type": "stream",
          "name": "stdout",
          "text": [
            "Iki Tuple Arasında Kesisen Elemanlarin Listesi:['a', 5]\n"
          ]
        }
      ]
    },
    {
      "cell_type": "code",
      "source": [
        "def ebob_ekok_hesaplama (temp1,temp2):\n",
        "\n",
        "    if temp1 < temp2:\n",
        "        total = temp1\n",
        "\n",
        "    else:\n",
        "        total = temp2\n",
        "\n",
        "    total = total + 1\n",
        "    ebob = 1\n",
        "\n",
        "    for i in range(2,total,1):\n",
        "        if (temp1 % i == 0) and (temp2 % i == 0):\n",
        "            ebob = i\n",
        "            ekok = (temp1 * temp2) // ebob\n",
        "\n",
        "    if ebob > 0 and ekok > 0:\n",
        "        return ebob,ekok\n",
        "    else:\n",
        "        ebob_yok = \"Yok\"\n",
        "        ekok_yok = \"Yok\"\n",
        "        return ebok_yok,ekok_yok\n",
        "\n",
        "\n",
        "\n",
        "\n",
        "\n",
        "sayi1 = int(input(\"Birinci Sayiyi Giriniz: \"))\n",
        "sayi2 = int(input(\"Ikinci Sayiyi Giriniz: \"))\n",
        "\n",
        "sayi = ebob_ekok_hesaplama(sayi1,sayi2)\n",
        "print(\"Ebob: \"+str(sayi[0]),\" Ekok: \"+str(sayi[1]))"
      ],
      "metadata": {
        "colab": {
          "base_uri": "https://localhost:8080/"
        },
        "id": "gBIJHIyMF6CP",
        "outputId": "1e7d01ca-abed-4846-e3dd-6e1937236c07"
      },
      "execution_count": 7,
      "outputs": [
        {
          "output_type": "stream",
          "name": "stdout",
          "text": [
            "Birinci Sayiyi Giriniz: 12\n",
            "Ikinci Sayiyi Giriniz: 18\n",
            "Ebob: 6  Ekok: 36\n"
          ]
        }
      ]
    }
  ]
}
