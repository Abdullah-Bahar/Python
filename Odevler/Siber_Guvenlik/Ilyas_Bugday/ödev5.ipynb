{
  "nbformat": 4,
  "nbformat_minor": 0,
  "metadata": {
    "colab": {
      "provenance": []
    },
    "kernelspec": {
      "name": "python3",
      "display_name": "Python 3"
    },
    "language_info": {
      "name": "python"
    }
  },
  "cells": [
    {
      "cell_type": "code",
      "execution_count": null,
      "metadata": {
        "id": "gz8y5lPinbJs"
      },
      "outputs": [],
      "source": [
        "\n",
        "dosya = open(\"oteller.txt\", \"r\")\n",
        "\n",
        "yeni_dosya = open(\"oteller.txt\", \"w\")\n",
        "\n",
        "sehir = input(\"Şehir adı giriniz: \")\n",
        "\n",
        "\n",
        "for satir in dosya:\n",
        "  bolunmus_satir = satir.split(\"-\")\n",
        "  satirdaki_sehir = bolunmus_satir[0]\n",
        "  otel = bolunmus_satir[1]\n",
        "\n",
        "  if satirdaki_sehir == sehir:\n",
        "    print(otel)\n",
        "    yeni_dosya.write(otel)\n",
        "\n",
        "dosya.close()\n",
        "yeni_dosya.close()\n"
      ]
    },
    {
      "cell_type": "code",
      "source": [
        "\n",
        "dosya1 = open(\"cicekler1.txt\", \"r\")\n",
        "dosya2 = open(\"cicekler2.txt\", \"r\")\n",
        "\n",
        "liste2 = dosya2.readlines()\n",
        "\n",
        "liste3 = liste1 + liste2\n",
        "\n",
        "liste3.sort()\n",
        "\n",
        "dosya3 = open(\"cicekler3.txt\", \"w\")\n",
        "\n",
        "for cicek in liste3:\n",
        "  dosya3.write(cicek)\n",
        "\n",
        "dosya1.close()\n",
        "dosya2.close()\n",
        "dosya3.close()\n"
      ],
      "metadata": {
        "id": "aT8PrNOPoBTm"
      },
      "execution_count": null,
      "outputs": []
    },
    {
      "cell_type": "code",
      "source": [
        "\n",
        "pop_file = open(\"05_worldpop.txt\", \"r\")\n",
        "area_file = open(\"05_worldarea.txt\", \"r\")\n",
        "\n",
        "\n",
        "density_file = open(\"world_pop_density.txt\", \"w\")\n",
        "\n",
        "for pop_line, area_line in zip(pop_file, area_file):\n",
        "  pop_country, pop_number = pop_line.split()\n",
        "  area_country, area_number = area_line.split()\n",
        "  assert pop_country == area_country\n",
        "  pop_number = int(pop_number)\n",
        "  area_number = int(area_number)\n",
        "  density = pop_number / area_number\n",
        "  density_file.write(f\"{pop_country} {density}\\n\")\n",
        "\n",
        "pop_file.close()\n",
        "area_file.close()\n",
        "density_file.close()\n"
      ],
      "metadata": {
        "id": "KPDySIwiodMu"
      },
      "execution_count": null,
      "outputs": []
    }
  ]
}
