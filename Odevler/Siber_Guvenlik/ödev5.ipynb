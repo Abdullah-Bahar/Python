# file = open("oteller.txt","r")
# for satır in file:
#     city = satır[0]
#     input_city = input("Lütfen şehir adı giriniz: ")

#     if city == input_city:
#         kopya = open("oteller-" + input_city + ".txt","w")
#         kopya.write(satır)
#         kopya.close()
# file.close()


#-------------------------------------------------------------

# file_1 = open("cicekler1.txt","r")
# file_2 = open("cicekler2.txt","r")

# cicekler = []

# for satır in file_1:
#     cicekler.append(satır)
# for satır in file_2:
#     cicekler.append(satır)

# cicekler = sorted(cicekler)

# file_3 = open("cicekler.txt","w")  #listeyi sıralamak için "sorted" kullandım

# for cicek in cicekler:
#     file_3.write(cicek)

# file_1.close()
# file_2.close()
# file_3.close()


#-------------------------------------------------------------


# nüfus = open("05_worldpop.txt","r")
# alan = open("05_worldarea.txt","r")
# ülkeler = []

# for satır in nüfus:
#     ülkeler.append(satır.split(",")[0])
# for satır in alan:
#     ülkeler.append(satır.split(",")[0])

# for i in range(len(ülkeler)):
#     yoğunluk = int(ülkeler[i + 1]) / float(ülkeler[i])
#     ülkeler.append(str(yoğunluk))

# nüfus_yoğunluk = open("world_pop_density.txt","w")

# for ülke in ülkeler:
#     nüfus_yoğunluk.write(ülke + "\n")
# nüfus.close()
# alan.close()
# nüfus_yoğunluk.close()









