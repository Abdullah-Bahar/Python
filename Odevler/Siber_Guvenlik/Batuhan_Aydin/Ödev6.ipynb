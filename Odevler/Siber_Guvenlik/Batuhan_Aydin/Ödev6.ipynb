class Table:
    def __init__(self):
        self.table = [] 

    def input_table(self):
        for i in range(2):
            row = []
            for j in range(3):
                val = int(input(f"Değer tablosu için [{i}][{j}] elemanını girin: "))
                row.append(val)
            self.table.append(row) 

    def print_table(self):
        for row in self.table:
            print(row) 

    def sum_rows(self):
        for i, row in enumerate(self.table):
            row_sum = sum(row)
            print(f"Satır {i + 1} toplamı: {row_sum}") 

    def sum_cols(self):
        col_sums = [sum(col) for col in zip(*self.table)]
        for i, col_sum in enumerate(col_sums):
            print(f"Sütun {i + 1} toplamı: {col_sum}")


my_table = Table()
my_table.input_table() 

print("Tablo:")
my_table.print_table() 

print("\nSatır toplamları:")
my_table.sum_rows() 

print("\nSütun toplamları:")
my_table.sum_cols()




def replace_word(table, word):
    for i in range(len(table)):
        table[i] = table[i].replace(word, '*')
    return table 

# Örnek kullanım
word_table = [
    "Bu bir örnek cümle",
    "Başka bir cümle",
    "Python programlama dili ile ilgili bir şeyler"
] 

search_word = "bir" 

updated_table = replace_word(word_table, search_word) 

for row in updated_table:
    print(row)



def find_and_remove_limit(numbers, limit):
    index = -1 

    for i, num in enumerate(numbers):
        if num > limit:
            index = i
            break 

    if index != -1:
        print(f"Limiti aşan ilk öğenin dizini: {index}")
        removed_item = numbers.pop(index)
        print(f"Kaldırılan öğe: {removed_item}")
    else:
        print("Limiti aşan bir öğe bulunamadı.") 

numbers_list = []
while True:
    value = int(input("Değer girin (-1 toplama için): "))
    if value == -1:
        break
    numbers_list.append(value) 

limit_value = int(input("Bir limit girin: ")) 

find_and_remove_limit(numbers_list, limit_value)


def find_capitalized_and_shortest(words):
    capitalized_words = [word for word in words[::-1] if word[0].isupper()]
    shortest_word = min(words, key=len) 

    print("Listenin sonundan başlayarak büyük harfle başlayan kelimeler:")
    for word in capitalized_words:
        print(word) 

    print(f"\nListedeki en kısa kelime: {shortest_word}") 

word_list = []
for i in range(5):
    word = input(f"{i + 1}. kelimeyi girin: ")
    word_list.append(word) 

find_capitalized_and_shortest(word_list)


def tuple_intersection(tuple1, tuple2):
    intersection = tuple(set(tuple1) & set(tuple2))
    return intersection 

tuple_a = (1, 2, 3, 4, 5)
tuple_b = (3, 4, 5, 6, 7) 

result = tuple_intersection(tuple_a, tuple_b)
print("Kesişim:", result)



def EKOK(n1, n2):
    def EBOB(a, b):
        while b:
            a, b = b, a % b
        return a 

    if n1 <= 0 or n2 <= 0:
        return "Pozitif tam sayılar gerekli."
    else:
        ebob = EBOB(n1, n2)
        ekok = (n1 * n2) // ebob
        return ekok 

sayi1 = 12
sayi2 = 18 

ekok_sonucu = EKOK(sayi1, sayi2)
ebob_sonucu = EBOB(sayi1, sayi2) 

if ekok_sonucu == "Pozitif tam sayılar gerekli.":
    print(ekok_sonucu)
else:
    print(f"1'den büyük en küçük ortak bölen (EKOK): {ekok_sonucu}")
    print(f"En büyük ortak bölen (EBOB): {ebob_sonucu}")
