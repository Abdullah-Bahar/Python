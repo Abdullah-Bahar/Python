# def print_table(table):
#   for row in table:
#     print(" ".join(row))
# def sum_rows(table):
#   for row in table:
#     print("Toplam:", sum(row))
# def sum_cols(table):
#   for col in range(len(table[0])):
#     sum_col = 0
#     for row in table:
#       sum_col += row[col]
#     print("Sütun {} toplamı: {}".format(col, sum_col))
# table = []
# for i in range(2):
#   row = []
#   for j in range(3):
#     row.append(int(input("{}. satır, {}. sütun: ".format(i + 1, j + 1))))
#   table.append(row)

#   print_table(table)
#   sum_rows(table)
#   sum_cols(table)


#   ----------------------------------------------


# def replace_harf(kelime, harf):
#   for i in range(len(kelime)):
#     if kelime[i] == harf:
#       kelime[i] = "*"

#   return kelime

# kelime = ["i", "t", "i", "c", "ü"]
# harf = "i"

# print("Orijinal:", kelime)
# print("Değiştirilmiş:", replace_harf(kelime, harf))


#   ----------------------------------------------


# def numara():
#   sayılar = []
#   while True:
#     sayi = int(input("Bir sayı girin: "))
#     if sayi == -1:
#       break
#     sayılar.append(sayi)

#   return sayılar

# def limit(sayılar, limit):
#   for i in range(len(sayılar)):
#     if sayılar[i] > limit:
#       print("Limiti aşan öğenin dizini:", i)
#       sayılar.pop(i)
#       break

# if __name__ == "__main__":
#   sayılar = numara()
#   limit = int(input("Bir limit girin: "))
#   limit(sayılar, limit)
#   print("Değişiklikten sonra liste:", sayılar)


#   ----------------------------------------------


# def okunacak_kelimeler():
#   kelimeler = []
#   for i in range(5):
#     kelime = input("Bir kelime girin: ")
#     kelimeler.append(kelime)

#   return kelimeler

# def print_kelimeler_from_end(kelimeler):
#   for i in range(len(kelimeler) - 1, -1, -1):
#     if kelimeler[i][0].isupper():
#       print(kelimeler[i])


# def kısa_kelime_(kelimeler):
#   kısa_kelime = kelimeler[0]
#   for kelime in kelimeler:
#     if len(kelime) < len(kısa_kelime):
#       kısa_kelime = kelime

#   return kısa_kelime


# if __name__ == "__main__":
#   kelimeler = okunacak_kelimeler()
#   print_kelimeler_from_end(kelimeler)
#   kısa_kelime = kısa_kelime_(kelimeler)
#   print("En kısa kelime:", kısa_kelime)


#   ----------------------------------------------


# def tuples(tuple1, tuple2):
#   işlev = []
#   for deger in tuple1:
#     if deger in tuple2:
#       işlev.append(deger)

#   return tuple(işlev)

# tuple1 = (1, 2, 3, 4, 5)
# tuple2 = (3, 4, 5, 6, 7)

# print("Kesişim:", tuples(tuple1, tuple2))


#   ----------------------------------------------


# def ebob(n1, n2):

#   if n1 < 0 or n2 < 0:
#     raise ValueError("n1 ve n2 pozitif tam sayı olmalıdır.")
  
#   gcd = 1
#   while n1 != 0 and n2 != 0:
#     if n1 > n2:
#       n1 %= n2
#     else:
#       n2 %= n1
#     gcd = max(gcd, n1, n2)
  
#   lcm = gcd
#   if gcd == 1:
#     return (Yok, Yok)
#   else:
#     return (lcm, gcd)

# n1 = 12
# n2 = 18

# print("(1'den büyük en küçük ortak bölen, en büyük ortak bölen):", ebob(n1, n2))

