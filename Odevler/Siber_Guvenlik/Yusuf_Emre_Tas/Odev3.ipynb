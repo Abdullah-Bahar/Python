{
  "nbformat": 4,
  "nbformat_minor": 0,
  "metadata": {
    "colab": {
      "provenance": []
    },
    "kernelspec": {
      "name": "python3",
      "display_name": "Python 3"
    },
    "language_info": {
      "name": "python"
    }
  },
  "cells": [
    {
      "cell_type": "code",
      "execution_count": null,
      "metadata": {
        "id": "QAsRSlgB2Pv9"
      },
      "outputs": [],
      "source": [
        "bakiye = 1000\n",
        "hedef = bakiye * 2\n",
        "yil = 0\n",
        "\n",
        "while bakiye < hedef:\n",
        "  bakiye += bakiye * 15 / 100\n",
        "  yil += 1\n",
        "\n",
        "print(f\"1000 Liralık yatırımı ikiye katlamak için {yil} yıl gerekir.\")"
      ]
    },
    {
      "cell_type": "code",
      "source": [
        "mikroo = int(input(\"İlk mikroorganizma sayısını girin:\"))\n",
        "i_mikroo = mikroo\n",
        "gecen_saat = 0\n",
        "\n",
        "while mikroo < 1000000:\n",
        "  mikroo *= 2\n",
        "  gecen_saat += 10\n",
        "\n",
        "gecen_gun = int(gecen_saat / 24)\n",
        "gecen_saat = int(gecen_saat - (gecen_gun * 24))\n",
        "\n",
        "print(f\"{i_mikroo} adet mikroorganizma, {gecen_gun} gün {gecen_saat} saatte 1000000’den fazla hale gelir.\")"
      ],
      "metadata": {
        "id": "-9InGcER2T65"
      },
      "execution_count": null,
      "outputs": []
    },
    {
      "cell_type": "code",
      "source": [
        "sayac = 0\n",
        "toplam = 0\n",
        "\n",
        "while True:\n",
        "  sayi = int(input(\"Sayilari girin: \"))\n",
        "\n",
        "  if sayi < 0:\n",
        "    break\n",
        "\n",
        "  sayac += 1\n",
        "  toplam += sayi\n",
        "\n",
        "ortalama = toplam / sayac\n",
        "print(\"Girilen sayıların ortalaması = \", ortalama)"
      ],
      "metadata": {
        "id": "xOs-y-tu2VP7"
      },
      "execution_count": null,
      "outputs": []
    },
    {
      "cell_type": "code",
      "source": [
        "import random\n",
        "\n",
        "sayi = random.randint(1, 10)\n",
        "sayac = 1\n",
        "\n",
        "while True:\n",
        "  tahmin = int(input(\"1-9 Arası tahmininizi girin: \"))\n",
        "\n",
        "  if tahmin == sayi:\n",
        "    break\n",
        "\n",
        "  sayac += 1\n",
        "\n",
        "print(f\"Sayıyı {sayac} tahminde doğru tahmin ettiniz.\")"
      ],
      "metadata": {
        "id": "ZPP0Uu292bX2"
      },
      "execution_count": null,
      "outputs": []
    }
  ]
}
