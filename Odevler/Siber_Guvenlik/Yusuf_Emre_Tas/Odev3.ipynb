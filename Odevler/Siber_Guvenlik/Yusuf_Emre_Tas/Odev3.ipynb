{
  "nbformat": 4,
  "nbformat_minor": 0,
  "metadata": {
    "colab": {
      "provenance": []
    },
    "kernelspec": {
      "name": "python3",
      "display_name": "Python 3"
    },
    "language_info": {
      "name": "python"
    }
  },
  "cells": [
    {
      "cell_type": "code",
      "execution_count": 1,
      "metadata": {
        "colab": {
          "base_uri": "https://localhost:8080/"
        },
        "id": "QAsRSlgB2Pv9",
        "outputId": "c65dcec2-9705-459a-8e34-2b1078018792"
      },
      "outputs": [
        {
          "output_type": "stream",
          "name": "stdout",
          "text": [
            "1000 Liralık yatırımı ikiye katlamak için 5 yıl gerekir.\n"
          ]
        }
      ],
      "source": [
        "bakiye = 1000\n",
        "hedef = bakiye * 2\n",
        "yil = 0\n",
        "\n",
        "while bakiye < hedef:\n",
        "  bakiye += bakiye * 15 / 100\n",
        "  yil += 1\n",
        "\n",
        "print(f\"1000 Liralık yatırımı ikiye katlamak için {yil} yıl gerekir.\")"
      ]
    },
    {
      "cell_type": "code",
      "source": [
        "mikroo = int(input(\"İlk mikroorganizma sayısını girin:\"))\n",
        "i_mikroo = mikroo\n",
        "gecen_saat = 0\n",
        "\n",
        "while mikroo < 1000000:\n",
        "  mikroo *= 2\n",
        "  gecen_saat += 10\n",
        "\n",
        "gecen_gun = int(gecen_saat / 24)\n",
        "gecen_saat = int(gecen_saat - (gecen_gun * 24))\n",
        "\n",
        "print(f\"{i_mikroo} adet mikroorganizma, {gecen_gun} gün {gecen_saat} saatte 1000000’den fazla hale gelir.\")"
      ],
      "metadata": {
        "colab": {
          "base_uri": "https://localhost:8080/"
        },
        "id": "-9InGcER2T65",
        "outputId": "c060ebac-39cb-45b5-fdb7-e33caa318a43"
      },
      "execution_count": 2,
      "outputs": [
        {
          "output_type": "stream",
          "name": "stdout",
          "text": [
            "İlk mikroorganizma sayısını girin:20\n",
            "20 adet mikroorganizma, 6 gün 16 saatte 1000000’den fazla hale gelir.\n"
          ]
        }
      ]
    },
    {
      "cell_type": "code",
      "source": [
        "sayac = 0\n",
        "toplam = 0\n",
        "\n",
        "while True:\n",
        "  sayi = int(input(\"Sayilari girin: \"))\n",
        "\n",
        "  if sayi < 0:\n",
        "    break\n",
        "\n",
        "  sayac += 1\n",
        "  toplam += sayi\n",
        "\n",
        "ortalama = toplam / sayac\n",
        "print(\"Girilen sayıların ortalaması = \", ortalama)"
      ],
      "metadata": {
        "colab": {
          "base_uri": "https://localhost:8080/"
        },
        "id": "xOs-y-tu2VP7",
        "outputId": "7cdd539e-a33f-4ddc-b9c0-9793d5d6bda0"
      },
      "execution_count": 3,
      "outputs": [
        {
          "output_type": "stream",
          "name": "stdout",
          "text": [
            "Sayilari girin: 3\n",
            "Sayilari girin: 5\n",
            "Sayilari girin: 7\n",
            "Sayilari girin: 9\n",
            "Sayilari girin: -1\n",
            "Girilen sayıların ortalaması =  6.0\n"
          ]
        }
      ]
    },
    {
      "cell_type": "code",
      "source": [
        "import random\n",
        "\n",
        "sayi = random.randint(1, 10)\n",
        "sayac = 1\n",
        "\n",
        "while True:\n",
        "  tahmin = int(input(\"1-9 Arası tahmininizi girin: \"))\n",
        "\n",
        "  if tahmin == sayi:\n",
        "    break\n",
        "\n",
        "  sayac += 1\n",
        "\n",
        "print(f\"Sayıyı {sayac} tahminde doğru tahmin ettiniz.\")"
      ],
      "metadata": {
        "colab": {
          "base_uri": "https://localhost:8080/"
        },
        "id": "ZPP0Uu292bX2",
        "outputId": "9f1bf2ac-39d0-4ac7-ecbf-19dfc43eef61"
      },
      "execution_count": 4,
      "outputs": [
        {
          "output_type": "stream",
          "name": "stdout",
          "text": [
            "1-9 Arası tahmininizi girin: 3\n",
            "1-9 Arası tahmininizi girin: 7\n",
            "1-9 Arası tahmininizi girin: 5\n",
            "1-9 Arası tahmininizi girin: 4\n",
            "1-9 Arası tahmininizi girin: 1\n",
            "1-9 Arası tahmininizi girin: 5\n",
            "1-9 Arası tahmininizi girin: 6\n",
            "1-9 Arası tahmininizi girin: 7\n",
            "1-9 Arası tahmininizi girin: 8\n",
            "Sayıyı 9 tahminde doğru tahmin ettiniz.\n"
          ]
        }
      ]
    }
  ]
}
