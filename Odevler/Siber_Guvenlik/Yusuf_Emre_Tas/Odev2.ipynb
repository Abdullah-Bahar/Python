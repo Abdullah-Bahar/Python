{
  "nbformat": 4,
  "nbformat_minor": 0,
  "metadata": {
    "colab": {
      "provenance": []
    },
    "kernelspec": {
      "name": "python3",
      "display_name": "Python 3"
    },
    "language_info": {
      "name": "python"
    }
  },
  "cells": [
    {
      "cell_type": "code",
      "execution_count": 1,
      "metadata": {
        "colab": {
          "base_uri": "https://localhost:8080/"
        },
        "id": "DeLLf3xc1MZj",
        "outputId": "7be50a85-6a2d-4864-9297-7741ebd4ab52"
      },
      "outputs": [
        {
          "output_type": "stream",
          "name": "stdout",
          "text": [
            "Bir sayı girin:35\n",
            "Sayı hem 5'e hem de 7'ye bölünür.\n"
          ]
        }
      ],
      "source": [
        "sayi = int(input(\"Bir sayı girin:\"))\n",
        "\n",
        "if sayi % 5 == 0 and sayi % 7 == 0:\n",
        "  print (\"Sayı hem 5'e hem de 7'ye bölünür.\")\n",
        "elif sayi % 5 == 0:\n",
        "  print (\"Sayı 5'e bölünür.\")\n",
        "elif sayi % 7 == 0:\n",
        "  print (\"Sayı 7'ye bölünür.\")\n",
        "else:\n",
        "  print (\"Sayı ne 5'e ne de 7'ye bölünür.\")"
      ]
    },
    {
      "cell_type": "code",
      "source": [
        "sayi = 6\n",
        "tahmin = int(input(\"1-9 arası bir tahmin giriniz:\"))\n",
        "if tahmin == sayi:\n",
        "  print (\"iyi tahmin\")\n",
        "else:\n",
        "  print (\"Yanlış Tahmini\")"
      ],
      "metadata": {
        "colab": {
          "base_uri": "https://localhost:8080/"
        },
        "id": "ZDamxDbs1XZ_",
        "outputId": "74d99757-47a8-4510-d17a-dcb2dfec1a81"
      },
      "execution_count": 2,
      "outputs": [
        {
          "output_type": "stream",
          "name": "stdout",
          "text": [
            "1-9 arası bir tahmin giriniz:3\n",
            "Yanlış Tahmini\n"
          ]
        }
      ]
    },
    {
      "cell_type": "code",
      "source": [
        "kelime = \"araba\"\n",
        "\n",
        "if kelime [0] == kelime[-1]:\n",
        "  print(f\"{kelime} kelimesinin ilk ve son harfi birbirine eşittir.\")\n",
        "else:\n",
        "  print(f\"{kelime} kelimesinin ilk ve son harfi birbirine eşit değildir.\")"
      ],
      "metadata": {
        "colab": {
          "base_uri": "https://localhost:8080/"
        },
        "id": "GE3s71fU1Yxa",
        "outputId": "bf452413-f499-4893-8570-4a75c6cf5c14"
      },
      "execution_count": 3,
      "outputs": [
        {
          "output_type": "stream",
          "name": "stdout",
          "text": [
            "araba kelimesinin ilk ve son harfi birbirine eşittir.\n"
          ]
        }
      ]
    },
    {
      "cell_type": "code",
      "source": [
        "boy = float(input(\"Lütfen boyunuzu metre cinsinden giriniz (örn 1.75):\"))\n",
        "kilo = int(input(\"Lütfen kilonuzu kg cinsinden giriniz:\"))\n",
        "bmi = kilo / (boy*boy)\n",
        "\n",
        "if bmi >= 30:\n",
        "  print(f\"Vücut Kitle İndeksin = {bmi:.2f} Obezsin\")\n",
        "elif 25 <= bmi < 30:\n",
        "  print(f\"Vücut Kitle İndeksin = {bmi:.2f} Aşırı Kilolusun\")\n",
        "elif 20 <= bmi < 25:\n",
        "  print(f\"Vücut Kitle İndeksin = {bmi:.2f} Normalsin\")\n",
        "else:\n",
        "  print(f\"Vücut Kitle İndeksin = {bmi:.2f} Zayıfsın\")"
      ],
      "metadata": {
        "colab": {
          "base_uri": "https://localhost:8080/"
        },
        "id": "2pWR1gUV1a7z",
        "outputId": "2a141f47-0aa1-4677-eefc-d7a809a29632"
      },
      "execution_count": 4,
      "outputs": [
        {
          "output_type": "stream",
          "name": "stdout",
          "text": [
            "Lütfen boyunuzu metre cinsinden giriniz (örn 1.75):1.73\n",
            "Lütfen kilonuzu kg cinsinden giriniz:105\n",
            "Vücut Kitle İndeksin = 35.08 Obezsin\n"
          ]
        }
      ]
    }
  ]
}
