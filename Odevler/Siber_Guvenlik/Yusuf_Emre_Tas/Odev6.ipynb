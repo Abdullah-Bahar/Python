{
  "nbformat": 4,
  "nbformat_minor": 0,
  "metadata": {
    "colab": {
      "provenance": []
    },
    "kernelspec": {
      "name": "python3",
      "display_name": "Python 3"
    },
    "language_info": {
      "name": "python"
    }
  },
  "cells": [
    {
      "cell_type": "code",
      "execution_count": 5,
      "metadata": {
        "colab": {
          "base_uri": "https://localhost:8080/"
        },
        "id": "AOE4DyT_ta2e",
        "outputId": "2ca9ffad-3636-421c-f061-8cb4da9d4d69"
      },
      "outputs": [
        {
          "output_type": "stream",
          "name": "stdout",
          "text": [
            "Matrisin 0 satırını 0 sütunu için bir sayı girin: 1\n",
            "Matrisin 0 satırını 1 sütunu için bir sayı girin: 2\n",
            "Matrisin 0 satırını 2 sütunu için bir sayı girin: 3\n",
            "Matrisin 1 satırını 0 sütunu için bir sayı girin: 4\n",
            "Matrisin 1 satırını 1 sütunu için bir sayı girin: 5\n",
            "Matrisin 1 satırını 2 sütunu için bir sayı girin: 6\n",
            "\n",
            "\n",
            "Oluşturulan Tablo:\n",
            "[1, 2, 3]\n",
            "[4, 5, 6]\n",
            "1. satırın toplamı: 6\n",
            "2. satırın toplamı: 15\n",
            "1. kolonun toplamı: 5\n",
            "2. kolonun toplamı: 7\n",
            "3. kolonun toplamı: 9\n"
          ]
        }
      ],
      "source": [
        "matris = []\n",
        "\n",
        "for i in range(0, 2, 1):\n",
        "    satir = []\n",
        "\n",
        "    for j in range(0, 3, 1):\n",
        "        deger = int(input(\"Matrisin \" + str(i) + \" satırını \" + str(j) + \" sütunu için bir sayı girin: \"))\n",
        "        satir.append(deger)\n",
        "\n",
        "    matris.append(satir)\n",
        "\n",
        "\n",
        "def tabloyu_yazdir(matris, satir):\n",
        "    print(\"\\n\")\n",
        "    print(\"Oluşturulan Tablo:\")\n",
        "\n",
        "    for satir in matris:\n",
        "        print(satir)\n",
        "\n",
        "\n",
        "tabloyu_yazdir(matris, satir)\n",
        "\n",
        "\n",
        "def satirlari_topla(matris):\n",
        "    toplam_satir_0 = 0\n",
        "    toplam_satir_1 = 0\n",
        "\n",
        "    for i in range(3):\n",
        "        toplam_satir_0 += int(matris[0][i])\n",
        "\n",
        "    for j in range(3):\n",
        "        toplam_satir_1 += int(matris[1][j])\n",
        "\n",
        "    print(\"1. satırın toplamı: \" + str(toplam_satir_0) + \"\\n2. satırın toplamı: \" + str(toplam_satir_1))\n",
        "\n",
        "\n",
        "satirlari_topla(matris)\n",
        "\n",
        "\n",
        "def sutunlari_topla(matris):\n",
        "    toplam_sutun_0 = 0\n",
        "    toplam_sutun_1 = 0\n",
        "    toplam_sutun_2 = 0\n",
        "\n",
        "    for i in range(2):\n",
        "        toplam_sutun_0 += int(matris[i][0])\n",
        "\n",
        "    for j in range(2):\n",
        "        toplam_sutun_1 += int(matris[j][1])\n",
        "\n",
        "    for x in range(2):\n",
        "        toplam_sutun_2 += int(matris[x][2])\n",
        "\n",
        "    print(\"1. kolonun toplamı: \" + str(toplam_sutun_0) + \"\\n2. kolonun toplamı: \" + str(toplam_sutun_1) + \"\\n3. kolonun toplamı: \" + str(toplam_sutun_2))\n",
        "\n",
        "\n",
        "sutunlari_topla(matris)\n"
      ]
    },
    {
      "cell_type": "code",
      "source": [
        "def kelime_degistir(liste, kelime):\n",
        "    for i in range(len(liste)):\n",
        "        if kelime == liste[i]:\n",
        "            liste[i] = \"*\" * len(liste[i])\n",
        "    return liste\n",
        "\n",
        "\n",
        "kelime_listesi = []\n",
        "\n",
        "sayac = int(input(\"Kaç tane kelime gireceksin?: \"))\n",
        "\n",
        "for i in range(sayac):\n",
        "    kelime_listesi.append(input(str(i + 1) + \". kelimeyi girin: \"))\n",
        "\n",
        "degistirilecek_kelime = input(\"Değiştirmek istediğiniz kelimeyi girin:\")\n",
        "\n",
        "yenilenmis_liste = kelime_degistir(kelime_listesi, degistirilecek_kelime)\n",
        "\n",
        "for x in range(sayac):\n",
        "    print(yenilenmis_liste[x])\n"
      ],
      "metadata": {
        "colab": {
          "base_uri": "https://localhost:8080/"
        },
        "id": "0WuI8dlEudN0",
        "outputId": "d5eb0b95-52de-4af8-b7e2-019fcde6b8c3"
      },
      "execution_count": 6,
      "outputs": [
        {
          "output_type": "stream",
          "name": "stdout",
          "text": [
            "Kaç tane kelime gireceksin?: 3\n",
            "1. kelimeyi girin: araba\n",
            "2. kelimeyi girin: elma\n",
            "3. kelimeyi girin: kamyon\n",
            "Değiştirmek istediğiniz kelimeyi girin:elma\n",
            "araba\n",
            "****\n",
            "kamyon\n"
          ]
        }
      ]
    },
    {
      "cell_type": "code",
      "source": [
        "def en_buyuk_bul(arr, limit):\n",
        "    index = 0\n",
        "    for number in arr:\n",
        "        if number > limit:\n",
        "            break\n",
        "        else:\n",
        "            index += 1\n",
        "    print(\"\\n\")\n",
        "    if index < len(arr):\n",
        "        print(\"Dizide Limiti Aşan İlk Değer: \" + str(arr[index]))\n",
        "        arr.pop(index)\n",
        "    else:\n",
        "        print(\"Limit değerinden büyük bir sayı bulunamadı.\")\n",
        "    return arr\n",
        "\n",
        "\n",
        "number_array = []\n",
        "print(\"\\\"-1\\\" sayısı ile diziye değer eklemeyi sonlandırabilirsiniz.\\n\")\n",
        "\n",
        "while True:\n",
        "    value = input(\"Sayı değeri girin: \")\n",
        "    if value.lower() == \"-1\":\n",
        "        print(\"Değer ekleme işlemi sonlandırıldı\")\n",
        "        break\n",
        "    else:\n",
        "        try:\n",
        "            number_array.append(int(value))\n",
        "        except ValueError:\n",
        "            print(\"Geçersiz bir sayı girdiniz. Lütfen tekrar deneyin.\")\n",
        "\n",
        "print(\"\\n\")\n",
        "limit_value = int(input(\"Bir limit değeri girin:\"))\n",
        "\n",
        "updated_array = en_buyuk_bul(number_array, limit_value)\n",
        "\n",
        "print(\"\\n\")\n",
        "print(\"Dizinin yeni hali: \")\n",
        "\n",
        "for element in updated_array:\n",
        "    print(element)\n"
      ],
      "metadata": {
        "colab": {
          "base_uri": "https://localhost:8080/"
        },
        "id": "c5R_4KrcvRs2",
        "outputId": "579e8755-109e-49ce-b4f0-bdde2c6b8f36"
      },
      "execution_count": 14,
      "outputs": [
        {
          "output_type": "stream",
          "name": "stdout",
          "text": [
            "\"-1\" sayısı ile diziye değer eklemeyi sonlandırabilirsiniz.\n",
            "\n",
            "Sayı değeri girin: 2\n",
            "Sayı değeri girin: 4\n",
            "Sayı değeri girin: 7\n",
            "Sayı değeri girin: 9\n",
            "Sayı değeri girin: 5\n",
            "Sayı değeri girin: -1\n",
            "Değer ekleme işlemi sonlandırıldı\n",
            "\n",
            "\n",
            "Bir limit değeri girin:6\n",
            "\n",
            "\n",
            "Dizide Limiti Aşan İlk Değer: 7\n",
            "\n",
            "\n",
            "Dizinin yeni hali: \n",
            "2\n",
            "4\n",
            "9\n",
            "5\n"
          ]
        }
      ]
    },
    {
      "cell_type": "code",
      "source": [
        "def buyuk_harf(dizi):\n",
        "    for kelime in reversed(dizi):\n",
        "        if kelime[0].isupper():\n",
        "            print(\"Büyük Harfle Başlayan Kelimeler: \" + kelime)\n",
        "\n",
        "\n",
        "def min_kelime(dizi):\n",
        "    sayac = 0\n",
        "    temp = len(dizi[0])\n",
        "    for i in range(1, len(dizi), 1):\n",
        "        if len(dizi[i]) < temp:\n",
        "            temp = len(dizi[i])\n",
        "            sayac = i\n",
        "\n",
        "    print(\"En Kısa Kelime: \" + dizi[sayac])\n",
        "\n",
        "\n",
        "sayac = int(input(\"Diziye Kaç Tane Değer Eklenecek?: \"))\n",
        "\n",
        "dizi = []\n",
        "\n",
        "for i in range(sayac):\n",
        "    kelime = input(\"Bir Kelime Girin: \")\n",
        "    dizi.append(kelime)\n",
        "\n",
        "print(\"\\n\")\n",
        "buyuk_harf(dizi)\n",
        "print(\"\\n\")\n",
        "min_kelime(dizi)\n"
      ],
      "metadata": {
        "colab": {
          "base_uri": "https://localhost:8080/"
        },
        "id": "KuXvFBsqwvaI",
        "outputId": "a972f413-565f-413b-ca5d-d1bb3881da05"
      },
      "execution_count": 19,
      "outputs": [
        {
          "output_type": "stream",
          "name": "stdout",
          "text": [
            "Diziye Kaç Tane Değer Eklenecek?: 3\n",
            "Bir Kelime Girin: Sahi\n",
            "Bir Kelime Girin: deniz\n",
            "Bir Kelime Girin: Su\n",
            "\n",
            "\n",
            "Büyük Harfle Başlayan Kelimeler: Su\n",
            "Büyük Harfle Başlayan Kelimeler: Sahi\n",
            "\n",
            "\n",
            "En Kısa Kelime: Su\n"
          ]
        }
      ]
    },
    {
      "cell_type": "code",
      "source": [
        "def tuple_kesisim(temp1, temp2):\n",
        "    deneme = []\n",
        "\n",
        "    for eleman in temp1:\n",
        "        if eleman in temp2:\n",
        "            deneme.append(eleman)\n",
        "\n",
        "    print(\"İki Tuple Arasında Kesişen Elemanlar: \" + str(deneme))\n",
        "\n",
        "\n",
        "tuple_1 = (\"y\", \"u\", 3, \"s\", 6)\n",
        "tuple_2 = (\"u\", 8, 7, \"f\", 3)\n",
        "\n",
        "tuple_kesisim(tuple_1, tuple_2)\n"
      ],
      "metadata": {
        "colab": {
          "base_uri": "https://localhost:8080/"
        },
        "id": "fRZjvjwEx6V-",
        "outputId": "33f2d824-7df4-47ca-de22-327d3b5988ea"
      },
      "execution_count": 23,
      "outputs": [
        {
          "output_type": "stream",
          "name": "stdout",
          "text": [
            "İki Tuple Arasında Kesişen Elemanlar: ['u', 3]\n"
          ]
        }
      ]
    },
    {
      "cell_type": "code",
      "source": [
        "def ekok_ebob_hesaplama(temp1, temp2):\n",
        "    if temp1 < temp2:\n",
        "        total = temp1\n",
        "    else:\n",
        "        total = temp2\n",
        "\n",
        "    total += 1\n",
        "    ebob = 1\n",
        "\n",
        "    for i in range(2, total, 1):\n",
        "        if (temp1 % i == 0) and (temp2 % i == 0):\n",
        "            ebob = i\n",
        "            ekok = (temp1 * temp2) // ebob\n",
        "\n",
        "    if ebob > 0 and ekok > 0:\n",
        "        return ebob, ekok\n",
        "    else:\n",
        "        ebob_yok = \"Yok\"\n",
        "        ekok_yok = \"Yok\"\n",
        "        return ebob_yok, ekok_yok\n",
        "\n",
        "\n",
        "sayi1 = int(input(\"Birinci Sayıyı Girin: \"))\n",
        "sayi2 = int(input(\"İkinci Sayıyı Girin: \"))\n",
        "\n",
        "sonuclar = ekok_ebob_hesaplama(sayi1, sayi2)\n",
        "print(\"Ebob: \" + str(sonuclar[0]) + \"\\nEkok: \" + str(sonuclar[1]))\n"
      ],
      "metadata": {
        "colab": {
          "base_uri": "https://localhost:8080/"
        },
        "id": "1ysDF6VCzbK5",
        "outputId": "f8d3ea72-8ef1-4a5c-8276-485b9e3f24be"
      },
      "execution_count": 26,
      "outputs": [
        {
          "output_type": "stream",
          "name": "stdout",
          "text": [
            "Birinci Sayıyı Girin: 48\n",
            "İkinci Sayıyı Girin: 36\n",
            "Ebob: 12\n",
            "Ekok: 144\n"
          ]
        }
      ]
    }
  ]
}
