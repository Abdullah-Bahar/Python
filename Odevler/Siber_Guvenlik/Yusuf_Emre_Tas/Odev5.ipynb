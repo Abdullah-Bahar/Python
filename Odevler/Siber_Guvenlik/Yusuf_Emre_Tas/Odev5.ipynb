{
  "nbformat": 4,
  "nbformat_minor": 0,
  "metadata": {
    "colab": {
      "provenance": []
    },
    "kernelspec": {
      "name": "python3",
      "display_name": "Python 3"
    },
    "language_info": {
      "name": "python"
    }
  },
  "cells": [
    {
      "cell_type": "code",
      "execution_count": 15,
      "metadata": {
        "colab": {
          "base_uri": "https://localhost:8080/"
        },
        "id": "eABjFmD9nULg",
        "outputId": "ea17b698-eb2b-4cc0-d2cd-e70e834abc71"
      },
      "outputs": [
        {
          "output_type": "stream",
          "name": "stdout",
          "text": [
            "İzmir,Antalya,Bursa,Bodrum şehirlerinden birini seçin.\n",
            "\n",
            "Şehir İsmini Giriniz: Bodrum\n",
            "Bodrum şehrindeki oteller başarıyla dosyaya aktarıldı!\n"
          ]
        }
      ],
      "source": [
        "otellervesehirler = open(\"oteller-ve-sehirler.txt\", \"r\")\n",
        "\n",
        "line = []\n",
        "lines = []\n",
        "\n",
        "for i in range(8):\n",
        "    line.append(otellervesehirler.readline())\n",
        "\n",
        "otellervesehirler.close()\n",
        "\n",
        "print(\"İzmir,Antalya,Bursa,Bodrum şehirlerinden birini seçin.\\n\")\n",
        "\n",
        "sehir = input(\"Şehir İsmini Giriniz: \")\n",
        "onay = 0\n",
        "\n",
        "if sehir == \"Antalya\":\n",
        "    for i in range(len(line)):\n",
        "        if \"Antalya\" in line[i]:\n",
        "            lines.append(line[i])\n",
        "            antalya_otel = open(\"antalya_oteller.txt\", \"w\")\n",
        "            for i in range(len(lines)):\n",
        "                antalya_otel.write(lines[i])\n",
        "            antalya_otel.close()\n",
        "    onay = 1\n",
        "\n",
        "elif sehir == \"Bodrum\":\n",
        "    for i in range(len(line)):\n",
        "        if \"Bodrum\" in line[i]:\n",
        "            lines.append(line[i])\n",
        "            bodrum_otel = open(\"bodrum_oteller.txt\", \"w\")\n",
        "            for i in range(len(lines)):\n",
        "                bodrum_otel.write(lines[i])\n",
        "            bodrum_otel.close()\n",
        "    onay = 1\n",
        "\n",
        "elif sehir == \"Bursa\":\n",
        "    for i in range(len(line)):\n",
        "        if \"Bursa\" in line[i]:\n",
        "            lines.append(line[i])\n",
        "            bursa_otel = open(\"bursa_oteller.txt\", \"w\")\n",
        "            for i in range(len(lines)):\n",
        "                bursa_otel.write(lines[i])\n",
        "            bursa_otel.close()\n",
        "    onay = 1\n",
        "\n",
        "elif sehir == \"İzmir\":\n",
        "    for i in range(len(line)):\n",
        "        if \"İzmir\" in line[i]:\n",
        "            lines.append(line[i])\n",
        "            izmir_otel = open(\"izmir_oteller.txt\", \"w\")\n",
        "            for i in range(len(lines)):\n",
        "                izmir_otel.write(lines[i])\n",
        "            izmir_otel.close()\n",
        "    onay = 1\n",
        "\n",
        "else:\n",
        "    print(\"Belirtilen şehirlerden birini seçmediniz.\")\n",
        "\n",
        "if onay == 1:\n",
        "  print(f\"{sehir} şehrindeki oteller başarıyla dosyaya aktarıldı!\")"
      ]
    },
    {
      "cell_type": "code",
      "source": [
        "print(\"Lütfen .txt uzantılı olarak dosya isimlerini girin.\\n\")\n",
        "\n",
        "dosya1_ad = input(\"Birinci Dosya Adını Belirtin: \")\n",
        "dosya2_ad = input(\"İkinci Dosya Adını Belirtin: \")\n",
        "\n",
        "dosya1 = open(dosya1_ad, \"r\")\n",
        "dosya2 = open(dosya2_ad, \"r\")\n",
        "\n",
        "satirlar_dosya1 = []\n",
        "satirlar_dosya2 = []\n",
        "\n",
        "for i in range(10):\n",
        "    satirlar_dosya1.append(dosya1.readline())\n",
        "\n",
        "for i in range(10):\n",
        "    satirlar_dosya2.append(dosya2.readline())\n",
        "\n",
        "dosya1.close()\n",
        "dosya2.close()\n",
        "\n",
        "toplam_cicek = open(\"cicektoplam.txt\", \"w\")\n",
        "\n",
        "satirlar_toplam = satirlar_dosya1 + satirlar_dosya2\n",
        "satirlar_toplam.insert(10, \"\\n\")\n",
        "\n",
        "for i in range(21):\n",
        "    toplam_cicek.write(satirlar_toplam[i])\n",
        "\n",
        "print(\"İşlem tamamlandı\")\n",
        "\n",
        "toplam_cicek.close()\n"
      ],
      "metadata": {
        "colab": {
          "base_uri": "https://localhost:8080/"
        },
        "id": "tmTfdIINo9QB",
        "outputId": "d074311d-c654-40e7-97ae-2615d7c34ae5"
      },
      "execution_count": 10,
      "outputs": [
        {
          "output_type": "stream",
          "name": "stdout",
          "text": [
            "Lütfen .txt uzantılı olarak dosya isimlerini girin.\n",
            "\n",
            "Birinci Dosya Adını Belirtin: dosya1.txt\n",
            "İkinci Dosya Adını Belirtin: dosya2.txt\n",
            "İşlem tamamlandı\n"
          ]
        }
      ]
    },
    {
      "cell_type": "code",
      "source": [
        "ulkeler_dosya = open(\"05_worldarea.txt\", \"r\")\n",
        "nufus_yogunluk_dosya = open(\"05_worldpop.txt\", \"r\")\n",
        "\n",
        "ulkeler_satirlar = []\n",
        "nufus_yogunluk_satirlar = []\n",
        "\n",
        "for i in range(10):\n",
        "    ulkeler_satirlar.append(ulkeler_dosya.readline())\n",
        "\n",
        "for i in range(10):\n",
        "    nufus_yogunluk_satirlar.append(nufus_yogunluk_dosya.readline())\n",
        "\n",
        "ulkeler_dosya.close()\n",
        "nufus_yogunluk_dosya.close()\n",
        "\n",
        "toplam_dosya = open(\"world_pop_density.txt\", \"w\")\n",
        "\n",
        "for i in range(10):\n",
        "    toplam_dosya.write(ulkeler_satirlar[i] + nufus_yogunluk_satirlar[i])\n",
        "\n",
        "toplam_dosya.close()\n",
        "\n",
        "print(\"İşlem tamamlandı\")\n"
      ],
      "metadata": {
        "colab": {
          "base_uri": "https://localhost:8080/"
        },
        "id": "afsCIarjp2sX",
        "outputId": "37c05fce-831a-4427-b0b2-07f95e1c1b27"
      },
      "execution_count": 9,
      "outputs": [
        {
          "output_type": "stream",
          "name": "stdout",
          "text": [
            "İşlem tamamlandı\n"
          ]
        }
      ]
    }
  ]
}
