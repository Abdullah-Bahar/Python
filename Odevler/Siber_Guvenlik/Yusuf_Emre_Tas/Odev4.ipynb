{
  "nbformat": 4,
  "nbformat_minor": 0,
  "metadata": {
    "colab": {
      "provenance": []
    },
    "kernelspec": {
      "name": "python3",
      "display_name": "Python 3"
    },
    "language_info": {
      "name": "python"
    }
  },
  "cells": [
    {
      "cell_type": "code",
      "execution_count": 3,
      "metadata": {
        "colab": {
          "base_uri": "https://localhost:8080/"
        },
        "id": "CuDZK0dm3P_f",
        "outputId": "ae09f1b7-3473-43f8-aa90-b5bb5c26a553"
      },
      "outputs": [
        {
          "output_type": "stream",
          "name": "stdout",
          "text": [
            "Pozitif bir sayı girin:475\n",
            "475 sayısının rakamları toplamı = 16\n"
          ]
        }
      ],
      "source": [
        "def rakamlariTopla(sayi):\n",
        "  toplam = 0\n",
        "\n",
        "  while sayi > 0:\n",
        "    toplam += sayi % 10\n",
        "    sayi //= 10\n",
        "\n",
        "  return toplam\n",
        "\n",
        "sayi = int(input(\"Pozitif bir sayı girin:\"))\n",
        "\n",
        "print(f\"{sayi} sayısının rakamları toplamı = {rakamlariTopla(sayi)}\")"
      ]
    },
    {
      "cell_type": "code",
      "source": [
        "def tersiniDondur(sayi):\n",
        "  ters = int(str(sayi)[::-1])\n",
        "  return ters\n",
        "\"\"\"\n",
        "  : (iki nokta): Dilin dilinde, bu ifade dilimleme (slicing) yapmak için kullanılır. Bir dizi veya diziyi bir belirli bir şekilde kesmek için kullanılır.\n",
        "\n",
        "  start:stop:step: Dilimleme işlemi, üç parametre alabilir. start dizinin başlangıç noktasını, stop bitiş noktasını ve step adım boyutunu belirtir. Bu durumda, sadece step parametresi kullanılır.\n",
        "\n",
        "  -1: step parametresinin değeri -1 olarak belirlenmiştir. Bu, diziyi sondan başa doğru bir adım atarak okuma anlamına gelir.\n",
        "\"\"\"\n",
        "\n",
        "sayi = int(input(\"Bir sayı girin:\"))\n",
        "\n",
        "print(f\"Girdiğiniz sayının tersi: {tersiniDondur(sayi)}\")"
      ],
      "metadata": {
        "colab": {
          "base_uri": "https://localhost:8080/"
        },
        "id": "06L4py2e3YSk",
        "outputId": "44264234-83b1-43e2-b32b-b08a962ead27"
      },
      "execution_count": 4,
      "outputs": [
        {
          "output_type": "stream",
          "name": "stdout",
          "text": [
            "Bir sayı girin:413\n",
            "Girdiğiniz sayının tersi: 314\n"
          ]
        }
      ]
    }
  ]
}
